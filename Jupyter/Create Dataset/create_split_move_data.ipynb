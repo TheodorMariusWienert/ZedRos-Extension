{
 "cells": [
  {
   "cell_type": "code",
   "execution_count": 2,
   "id": "5b3b237e",
   "metadata": {},
   "outputs": [],
   "source": [
    "import os\n",
    "import random\n",
    "from tqdm.notebook import tqdm"
   ]
  },
  {
   "cell_type": "code",
   "execution_count": null,
   "id": "6505134f",
   "metadata": {},
   "outputs": [],
   "source": [
    "# based on this post https://github.com/ultralytics/yolov5/blob/2c99560a98f9bba96ccf5ec3c774cc2a95c7cc64/utils/datasets.py#L918-L933"
   ]
  },
  {
   "cell_type": "code",
   "execution_count": 3,
   "id": "5c598b07",
   "metadata": {},
   "outputs": [],
   "source": [
    " weights=(0.7, 0.2, 1)\n"
   ]
  },
  {
   "cell_type": "code",
   "execution_count": 4,
   "id": "bc5065f4",
   "metadata": {},
   "outputs": [],
   "source": [
    "path = \"/home/theubuntu/yolov5/datasets/Dataset_Robots_Humans/images/all\"  # images dir \n",
    "os.chdir (\"/home/theubuntu/yolov5/datasets/Dataset_Robots_Humans/\")"
   ]
  },
  {
   "cell_type": "code",
   "execution_count": 5,
   "id": "274f6abb",
   "metadata": {},
   "outputs": [
    {
     "name": "stdout",
     "output_type": "stream",
     "text": [
      "17500\n"
     ]
    }
   ],
   "source": [
    "\n",
    "files = os.listdir(path) \n",
    "n = len(files)  # number of files \n",
    "print(n)"
   ]
  },
  {
   "cell_type": "code",
   "execution_count": 6,
   "id": "a8df3661",
   "metadata": {},
   "outputs": [],
   "source": [
    "try:\n",
    "    os.remove(\"train.txt\")\n",
    "    os.remove(\"val.txt\")\n",
    "    os.remove(\"test.txt\")\n",
    "except OSError:\n",
    "    pass"
   ]
  },
  {
   "cell_type": "code",
   "execution_count": 7,
   "id": "b8b28de7",
   "metadata": {},
   "outputs": [],
   "source": [
    "indices = random.choices([0, 1, 2], weights=weights, k=n)  # assign each image to a split \n",
    "trainTxt= open(\"train.txt\",\"w+\")\n",
    "valTxt=open(\"val.txt\",\"w+\")\n",
    "testTxt=open(\"test.txt\",\"w+\")\n",
    "txt = [trainTxt, valTxt, testTxt]  # 3 txt files \n"
   ]
  },
  {
   "cell_type": "code",
   "execution_count": 8,
   "id": "8f751bda",
   "metadata": {},
   "outputs": [],
   "source": [
    "\n",
    "count=[0,0,0]\n",
    "for i in indices:\n",
    "        count[i]=count[i]+1"
   ]
  },
  {
   "cell_type": "code",
   "execution_count": 9,
   "id": "048b10a5",
   "metadata": {},
   "outputs": [
    {
     "name": "stdout",
     "output_type": "stream",
     "text": [
      "[12293, 5207, 0]\n"
     ]
    }
   ],
   "source": [
    "print(count)"
   ]
  },
  {
   "cell_type": "code",
   "execution_count": 10,
   "id": "c4421deb",
   "metadata": {},
   "outputs": [
    {
     "name": "stdout",
     "output_type": "stream",
     "text": [
      "17500\n"
     ]
    }
   ],
   "source": [
    "print(count[0]+count[1]+count[2])"
   ]
  },
  {
   "cell_type": "code",
   "execution_count": 11,
   "id": "8cef1089",
   "metadata": {},
   "outputs": [],
   "source": [
    "for idx,file in enumerate(files):\n",
    "    rel_file_path=\"./images/all/\"+file\n",
    "    txt[indices[idx]].write(rel_file_path+\"\\n\")\n",
    "\n",
    "trainTxt.close()\n",
    "valTxt.close()\n",
    "testTxt.close()"
   ]
  },
  {
   "cell_type": "code",
   "execution_count": 12,
   "id": "6e6c6662",
   "metadata": {},
   "outputs": [
    {
     "name": "stdout",
     "output_type": "stream",
     "text": [
      "\u001b[0m\u001b[01;34mimages\u001b[0m/  \u001b[01;34mlabels\u001b[0m/  test.txt  train.txt  val.txt\r\n"
     ]
    }
   ],
   "source": [
    "ls"
   ]
  },
  {
   "cell_type": "code",
   "execution_count": 13,
   "id": "e0a9ae33",
   "metadata": {},
   "outputs": [],
   "source": [
    "trainTxt.close()\n",
    "valTxt.close()\n",
    "testTxt.close()"
   ]
  }
 ],
 "metadata": {
  "kernelspec": {
   "display_name": "Python 3 (ipykernel)",
   "language": "python",
   "name": "python3"
  },
  "language_info": {
   "codemirror_mode": {
    "name": "ipython",
    "version": 3
   },
   "file_extension": ".py",
   "mimetype": "text/x-python",
   "name": "python",
   "nbconvert_exporter": "python",
   "pygments_lexer": "ipython3",
   "version": "3.8.10"
  }
 },
 "nbformat": 4,
 "nbformat_minor": 5
}
