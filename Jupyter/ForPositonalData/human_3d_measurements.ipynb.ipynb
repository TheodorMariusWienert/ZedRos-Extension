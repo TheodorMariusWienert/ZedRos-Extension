{
 "cells": [
  {
   "cell_type": "code",
   "execution_count": 1,
   "id": "2cb93286",
   "metadata": {},
   "outputs": [],
   "source": [
    "import pandas as pd\n",
    "import numpy as np\n",
    "import matplotlib.pyplot as plt\n",
    "from array import *\n",
    "import statistics\n",
    "import glob\n",
    "import os"
   ]
  },
  {
   "cell_type": "code",
   "execution_count": 2,
   "id": "e681b23b",
   "metadata": {},
   "outputs": [],
   "source": [
    "path =\"/home/theubuntu/ZedRos_CustomDetection/YoloV5 ResultsonTest/human\""
   ]
  },
  {
   "cell_type": "code",
   "execution_count": 3,
   "id": "b07438fa",
   "metadata": {},
   "outputs": [
    {
     "name": "stdout",
     "output_type": "stream",
     "text": [
      "['/home/theubuntu/ZedRos_CustomDetection/YoloV5 ResultsonTest/human/1_posData_Human_1_6m.txt', '/home/theubuntu/ZedRos_CustomDetection/YoloV5 ResultsonTest/human/2_posData_Humann_3_2m.txt', '/home/theubuntu/ZedRos_CustomDetection/YoloV5 ResultsonTest/human/3_posData_human_4_8m.txt']\n"
     ]
    }
   ],
   "source": [
    "print(glob.glob(path+\"/*.txt\")) "
   ]
  },
  {
   "cell_type": "code",
   "execution_count": 4,
   "id": "19213fd4",
   "metadata": {},
   "outputs": [
    {
     "data": {
      "text/plain": [
       "['/home/theubuntu/ZedRos_CustomDetection/YoloV5 ResultsonTest/human/1_posData_Human_1_6m.txt',\n",
       " '/home/theubuntu/ZedRos_CustomDetection/YoloV5 ResultsonTest/human/2_posData_Humann_3_2m.txt',\n",
       " '/home/theubuntu/ZedRos_CustomDetection/YoloV5 ResultsonTest/human/3_posData_human_4_8m.txt']"
      ]
     },
     "execution_count": 4,
     "metadata": {},
     "output_type": "execute_result"
    }
   ],
   "source": [
    "files =glob.glob(path+\"/*.txt\")\n",
    "files.sort()\n",
    "files"
   ]
  },
  {
   "cell_type": "code",
   "execution_count": 5,
   "id": "8a34cbab",
   "metadata": {},
   "outputs": [],
   "source": [
    "list_dfs = []\n",
    "df = pd.DataFrame()\n",
    "for file in files:\n",
    "    df_l = pd.read_csv(file, index_col=None, header=0)\n",
    "    df_l = df_l.iloc[: , :-1]\n",
    "    list_dfs.append(df_l)\n",
    "\n",
    "\n",
    "df = pd.concat(list_dfs, axis=1, ignore_index=True)"
   ]
  },
  {
   "cell_type": "code",
   "execution_count": 6,
   "id": "42df0820",
   "metadata": {},
   "outputs": [
    {
     "data": {
      "text/html": [
       "<div>\n",
       "<style scoped>\n",
       "    .dataframe tbody tr th:only-of-type {\n",
       "        vertical-align: middle;\n",
       "    }\n",
       "\n",
       "    .dataframe tbody tr th {\n",
       "        vertical-align: top;\n",
       "    }\n",
       "\n",
       "    .dataframe thead th {\n",
       "        text-align: right;\n",
       "    }\n",
       "</style>\n",
       "<table border=\"1\" class=\"dataframe\">\n",
       "  <thead>\n",
       "    <tr style=\"text-align: right;\">\n",
       "      <th></th>\n",
       "      <th>0</th>\n",
       "      <th>1</th>\n",
       "      <th>2</th>\n",
       "      <th>3</th>\n",
       "      <th>4</th>\n",
       "      <th>5</th>\n",
       "      <th>6</th>\n",
       "      <th>7</th>\n",
       "      <th>8</th>\n",
       "      <th>9</th>\n",
       "      <th>10</th>\n",
       "      <th>11</th>\n",
       "    </tr>\n",
       "  </thead>\n",
       "  <tbody>\n",
       "    <tr>\n",
       "      <th>0</th>\n",
       "      <td>0.558010</td>\n",
       "      <td>1.701396</td>\n",
       "      <td>0.557997</td>\n",
       "      <td>1.474085</td>\n",
       "      <td>0.572836</td>\n",
       "      <td>1.966304</td>\n",
       "      <td>0.572820</td>\n",
       "      <td>3.145998</td>\n",
       "      <td>0.595004</td>\n",
       "      <td>2.060363</td>\n",
       "      <td>0.594992</td>\n",
       "      <td>4.927964</td>\n",
       "    </tr>\n",
       "    <tr>\n",
       "      <th>1</th>\n",
       "      <td>0.557986</td>\n",
       "      <td>1.701614</td>\n",
       "      <td>0.557973</td>\n",
       "      <td>1.473892</td>\n",
       "      <td>0.572880</td>\n",
       "      <td>1.966623</td>\n",
       "      <td>0.572863</td>\n",
       "      <td>3.146343</td>\n",
       "      <td>0.595068</td>\n",
       "      <td>2.060330</td>\n",
       "      <td>0.595055</td>\n",
       "      <td>4.928359</td>\n",
       "    </tr>\n",
       "    <tr>\n",
       "      <th>2</th>\n",
       "      <td>0.557968</td>\n",
       "      <td>1.701766</td>\n",
       "      <td>0.557955</td>\n",
       "      <td>1.473911</td>\n",
       "      <td>0.572925</td>\n",
       "      <td>1.966509</td>\n",
       "      <td>0.572909</td>\n",
       "      <td>3.146591</td>\n",
       "      <td>0.595146</td>\n",
       "      <td>2.060349</td>\n",
       "      <td>0.595134</td>\n",
       "      <td>4.929510</td>\n",
       "    </tr>\n",
       "    <tr>\n",
       "      <th>3</th>\n",
       "      <td>0.557951</td>\n",
       "      <td>1.701827</td>\n",
       "      <td>0.557938</td>\n",
       "      <td>1.473855</td>\n",
       "      <td>0.572968</td>\n",
       "      <td>1.966822</td>\n",
       "      <td>0.572951</td>\n",
       "      <td>3.146919</td>\n",
       "      <td>0.595228</td>\n",
       "      <td>2.060339</td>\n",
       "      <td>0.595215</td>\n",
       "      <td>4.930439</td>\n",
       "    </tr>\n",
       "    <tr>\n",
       "      <th>4</th>\n",
       "      <td>0.557930</td>\n",
       "      <td>1.701942</td>\n",
       "      <td>0.557917</td>\n",
       "      <td>1.473727</td>\n",
       "      <td>0.573017</td>\n",
       "      <td>1.967165</td>\n",
       "      <td>0.573001</td>\n",
       "      <td>3.147260</td>\n",
       "      <td>0.595307</td>\n",
       "      <td>2.060355</td>\n",
       "      <td>0.595295</td>\n",
       "      <td>4.931018</td>\n",
       "    </tr>\n",
       "  </tbody>\n",
       "</table>\n",
       "</div>"
      ],
      "text/plain": [
       "         0         1         2         3         4         5         6   \\\n",
       "0  0.558010  1.701396  0.557997  1.474085  0.572836  1.966304  0.572820   \n",
       "1  0.557986  1.701614  0.557973  1.473892  0.572880  1.966623  0.572863   \n",
       "2  0.557968  1.701766  0.557955  1.473911  0.572925  1.966509  0.572909   \n",
       "3  0.557951  1.701827  0.557938  1.473855  0.572968  1.966822  0.572951   \n",
       "4  0.557930  1.701942  0.557917  1.473727  0.573017  1.967165  0.573001   \n",
       "\n",
       "         7         8         9         10        11  \n",
       "0  3.145998  0.595004  2.060363  0.594992  4.927964  \n",
       "1  3.146343  0.595068  2.060330  0.595055  4.928359  \n",
       "2  3.146591  0.595146  2.060349  0.595134  4.929510  \n",
       "3  3.146919  0.595228  2.060339  0.595215  4.930439  \n",
       "4  3.147260  0.595307  2.060355  0.595295  4.931018  "
      ]
     },
     "execution_count": 6,
     "metadata": {},
     "output_type": "execute_result"
    }
   ],
   "source": [
    "df.head()"
   ]
  },
  {
   "cell_type": "code",
   "execution_count": 7,
   "id": "d453f266",
   "metadata": {},
   "outputs": [],
   "source": [
    "#All measurements in meter\n",
    "measurements_real_life=[0.45,1.91,0.31] #width, hight, depth of pepper robot\n",
    "\n",
    "distances_real_life =[1.6,3.2,4.8]\n"
   ]
  },
  {
   "cell_type": "code",
   "execution_count": 8,
   "id": "0d5c41bc",
   "metadata": {},
   "outputs": [],
   "source": [
    "numberOfColumns=df.shape[1]\n",
    "numberOfRows =df.shape[0]"
   ]
  },
  {
   "cell_type": "code",
   "execution_count": 9,
   "id": "5d8aae0a",
   "metadata": {},
   "outputs": [],
   "source": [
    "Max_measurement=[0 for i in range(numberOfColumns)] \n",
    "Min_measurement=[0 for i in range(numberOfColumns)] \n",
    "Mean_measurement=[0 for i in range(numberOfColumns)] \n",
    "Max_measurement_deviation=[0 for i in range(numberOfColumns)] \n",
    "Var_measurement=[0 for i in range(numberOfColumns)] \n",
    "Deviation_to_real=[0 for i in range(numberOfColumns)] "
   ]
  },
  {
   "cell_type": "code",
   "execution_count": null,
   "id": "3377764f",
   "metadata": {},
   "outputs": [],
   "source": []
  },
  {
   "cell_type": "code",
   "execution_count": 10,
   "id": "89cb8c80",
   "metadata": {},
   "outputs": [],
   "source": [
    "for i in range(0, numberOfColumns):\n",
    "    Max_measurement[i] = df[df.columns[i]].max()\n",
    "    Mean_measurement[i]= df[df.columns[i]].mean()\n",
    "    Min_measurement[i]= df[df.columns[i]].min()\n",
    "    Var_measurement[i]= df[df.columns[i]].var()"
   ]
  },
  {
   "cell_type": "code",
   "execution_count": 11,
   "id": "c5243564",
   "metadata": {},
   "outputs": [
    {
     "name": "stdout",
     "output_type": "stream",
     "text": [
      "0.560162\n",
      "1.705748\n",
      "0.560146\n",
      "1.477119\n",
      "0.573512\n",
      "1.968976\n",
      "0.573498\n",
      "3.149397\n",
      "0.597073\n",
      "2.063471\n",
      "0.597058\n",
      "4.94709\n"
     ]
    }
   ],
   "source": [
    "for i in range(0, numberOfColumns):\n",
    "    print(Max_measurement[i])"
   ]
  },
  {
   "cell_type": "code",
   "execution_count": 12,
   "id": "14715a78",
   "metadata": {},
   "outputs": [
    {
     "name": "stdout",
     "output_type": "stream",
     "text": [
      "0.55788\n",
      "1.701396\n",
      "0.557868\n",
      "1.473191\n",
      "0.570898\n",
      "1.964699\n",
      "0.570884\n",
      "3.144363\n",
      "0.592886\n",
      "2.06033\n",
      "0.59287\n",
      "4.927964\n"
     ]
    }
   ],
   "source": [
    "for i in range(0, numberOfColumns):\n",
    "    print(Min_measurement[i])"
   ]
  },
  {
   "cell_type": "code",
   "execution_count": 13,
   "id": "51a66abb",
   "metadata": {},
   "outputs": [
    {
     "name": "stdout",
     "output_type": "stream",
     "text": [
      "0.5586676565656565\n",
      "1.703661696969697\n",
      "0.558653494949495\n",
      "1.4754733737373735\n",
      "0.5731057979797979\n",
      "1.9671857777777777\n",
      "0.573086\n",
      "3.147327737373738\n",
      "0.5960623232323232\n",
      "2.0614186262626264\n",
      "0.5960475858585859\n",
      "4.937444626262626\n"
     ]
    }
   ],
   "source": [
    "for i in range(0, numberOfColumns):\n",
    "    print(Mean_measurement[i])"
   ]
  },
  {
   "cell_type": "code",
   "execution_count": 14,
   "id": "0617833b",
   "metadata": {},
   "outputs": [
    {
     "name": "stdout",
     "output_type": "stream",
     "text": [
      "2.555286155431828e-07\n",
      "1.7385015398887185e-06\n",
      "2.5513059946402655e-07\n",
      "8.926192364461029e-07\n",
      "1.5098283632240587e-07\n",
      "1.2150902562358303e-06\n",
      "1.5549518367347304e-07\n",
      "1.6735600527726631e-06\n",
      "4.6891497608740457e-07\n",
      "7.792948282827933e-07\n",
      "4.684179797979772e-07\n",
      "2.8170938113997305e-05\n"
     ]
    }
   ],
   "source": [
    "for i in range(0, numberOfColumns):\n",
    "    print(Var_measurement[i])\n"
   ]
  },
  {
   "cell_type": "code",
   "execution_count": 15,
   "id": "cf9eec35",
   "metadata": {},
   "outputs": [
    {
     "name": "stdout",
     "output_type": "stream",
     "text": [
      "0.0014943434343435147\n",
      "0.0022656969696970286\n",
      "0.001492505050505022\n",
      "0.002282373737373611\n",
      "0.0022077979797978653\n",
      "0.0024867777777777267\n",
      "0.0022020000000000373\n",
      "0.0029647373737380356\n",
      "0.003176323232323197\n",
      "0.0020523737373734363\n",
      "0.003177585858585852\n",
      "0.009645373737374285\n"
     ]
    }
   ],
   "source": [
    "for i in range(0, numberOfColumns):\n",
    "    Max_measurement_deviation[i]=Max_measurement[i]-Mean_measurement[i]\n",
    "    temp=Mean_measurement[i]- Min_measurement[i]\n",
    "    if(temp>Max_measurement_deviation[i]):\n",
    "        Max_measurement_deviation[i]=temp\n",
    "    print(Max_measurement_deviation[i])\n",
    "        "
   ]
  },
  {
   "cell_type": "code",
   "execution_count": 23,
   "id": "c9f85e10",
   "metadata": {},
   "outputs": [],
   "source": [
    "#Now calculate the deviation from the real life measurements with the mean \n",
    "for i in range(0, numberOfColumns):\n",
    " \n",
    "    if i==3 or i==7  or i==11:   #distance \n",
    "        Deviation_to_real[i]=Mean_measurement[i]-distances_real_life[i%3]\n",
    "    else:\n",
    "       Deviation_to_real[i]=Mean_measurement[i]-measurements_real_life[i%4]\n",
    "        \n"
   ]
  },
  {
   "cell_type": "code",
   "execution_count": 24,
   "id": "d182318b",
   "metadata": {},
   "outputs": [
    {
     "name": "stdout",
     "output_type": "stream",
     "text": [
      "0.10866765656565652\n",
      "-0.20633830303030298\n",
      "0.248653494949495\n",
      "-0.12452662626262656\n",
      "0.12310579797979787\n",
      "0.05718577777777778\n",
      "0.263086\n",
      "-0.052672262626262345\n",
      "0.1460623232323232\n",
      "0.15141862626262648\n",
      "0.28604758585858586\n",
      "0.1374446262626261\n"
     ]
    }
   ],
   "source": [
    "for i in range(0, numberOfColumns):\n",
    "    print(Deviation_to_real[i])"
   ]
  },
  {
   "cell_type": "code",
   "execution_count": 25,
   "id": "f9e92556",
   "metadata": {},
   "outputs": [
    {
     "data": {
      "text/html": [
       "<div>\n",
       "<style scoped>\n",
       "    .dataframe tbody tr th:only-of-type {\n",
       "        vertical-align: middle;\n",
       "    }\n",
       "\n",
       "    .dataframe tbody tr th {\n",
       "        vertical-align: top;\n",
       "    }\n",
       "\n",
       "    .dataframe thead th {\n",
       "        text-align: right;\n",
       "    }\n",
       "</style>\n",
       "<table border=\"1\" class=\"dataframe\">\n",
       "  <thead>\n",
       "    <tr style=\"text-align: right;\">\n",
       "      <th></th>\n",
       "      <th>1.6m</th>\n",
       "      <th>3.2m</th>\n",
       "      <th>4.8m</th>\n",
       "    </tr>\n",
       "  </thead>\n",
       "  <tbody>\n",
       "    <tr>\n",
       "      <th>width</th>\n",
       "      <td>0.558668</td>\n",
       "      <td>0.573106</td>\n",
       "      <td>0.596062</td>\n",
       "    </tr>\n",
       "    <tr>\n",
       "      <th>height</th>\n",
       "      <td>1.703662</td>\n",
       "      <td>1.967186</td>\n",
       "      <td>2.061419</td>\n",
       "    </tr>\n",
       "    <tr>\n",
       "      <th>depth</th>\n",
       "      <td>0.558653</td>\n",
       "      <td>0.573086</td>\n",
       "      <td>0.596048</td>\n",
       "    </tr>\n",
       "    <tr>\n",
       "      <th>distance</th>\n",
       "      <td>1.475473</td>\n",
       "      <td>3.147328</td>\n",
       "      <td>4.937445</td>\n",
       "    </tr>\n",
       "  </tbody>\n",
       "</table>\n",
       "</div>"
      ],
      "text/plain": [
       "              1.6m      3.2m      4.8m\n",
       "width     0.558668  0.573106  0.596062\n",
       "height    1.703662  1.967186  2.061419\n",
       "depth     0.558653  0.573086  0.596048\n",
       "distance  1.475473  3.147328  4.937445"
      ]
     },
     "execution_count": 25,
     "metadata": {},
     "output_type": "execute_result"
    }
   ],
   "source": [
    "#Only for Latex\n",
    "data1=[]\n",
    "data2=[]\n",
    "data3=[]\n",
    "data4=[]\n",
    "for i in range(0, numberOfColumns):\n",
    "    if(i%4==0):\n",
    "          data1.append(Mean_measurement[i])\n",
    "    if(i%4==1):\n",
    "          data2.append(Mean_measurement[i])\n",
    "    if(i%4==2):\n",
    "          data3.append(Mean_measurement[i])\n",
    "    if(i%4==3):\n",
    "          data4.append(Mean_measurement[i])\n",
    "    \n",
    "    \n",
    "data=[data1,data2,data3,data4]\n",
    "rows = [\"width\", \"height\", \"depth\",\"distance\"]\n",
    "columns = [\"1.6m\", \"3.2m\", \"4.8m\"]\n",
    "df_latex = pd.DataFrame(data=data, index=rows, columns=columns)\n",
    "df_latex"
   ]
  },
  {
   "cell_type": "code",
   "execution_count": 26,
   "id": "8b0a3742",
   "metadata": {},
   "outputs": [
    {
     "name": "stdout",
     "output_type": "stream",
     "text": [
      "\\begin{tabular}{lrrr}\n",
      "\\toprule\n",
      "{} &      1.6m &      3.2m &      4.8m \\\\\n",
      "\\midrule\n",
      "width    &  0.558668 &  0.573106 &  0.596062 \\\\\n",
      "height   &  1.703662 &  1.967186 &  2.061419 \\\\\n",
      "depth    &  0.558653 &  0.573086 &  0.596048 \\\\\n",
      "distance &  1.475473 &  3.147328 &  4.937445 \\\\\n",
      "\\bottomrule\n",
      "\\end{tabular}\n",
      "\n"
     ]
    },
    {
     "name": "stderr",
     "output_type": "stream",
     "text": [
      "/tmp/ipykernel_162948/3287978498.py:1: FutureWarning: In future versions `DataFrame.to_latex` is expected to utilise the base implementation of `Styler.to_latex` for formatting and rendering. The arguments signature may therefore change. It is recommended instead to use `DataFrame.style.to_latex` which also contains additional functionality.\n",
      "  print(df_latex.to_latex(index=True))\n"
     ]
    }
   ],
   "source": [
    "print(df_latex.to_latex(index=True))  "
   ]
  },
  {
   "cell_type": "code",
   "execution_count": 27,
   "id": "d55fb825",
   "metadata": {},
   "outputs": [
    {
     "data": {
      "text/html": [
       "<div>\n",
       "<style scoped>\n",
       "    .dataframe tbody tr th:only-of-type {\n",
       "        vertical-align: middle;\n",
       "    }\n",
       "\n",
       "    .dataframe tbody tr th {\n",
       "        vertical-align: top;\n",
       "    }\n",
       "\n",
       "    .dataframe thead th {\n",
       "        text-align: right;\n",
       "    }\n",
       "</style>\n",
       "<table border=\"1\" class=\"dataframe\">\n",
       "  <thead>\n",
       "    <tr style=\"text-align: right;\">\n",
       "      <th></th>\n",
       "      <th>1.6m</th>\n",
       "      <th>3.2m</th>\n",
       "      <th>4.8m</th>\n",
       "    </tr>\n",
       "  </thead>\n",
       "  <tbody>\n",
       "    <tr>\n",
       "      <th>width</th>\n",
       "      <td>0.001494</td>\n",
       "      <td>0.002208</td>\n",
       "      <td>0.003176</td>\n",
       "    </tr>\n",
       "    <tr>\n",
       "      <th>height</th>\n",
       "      <td>0.002266</td>\n",
       "      <td>0.002487</td>\n",
       "      <td>0.002052</td>\n",
       "    </tr>\n",
       "    <tr>\n",
       "      <th>depth</th>\n",
       "      <td>0.001493</td>\n",
       "      <td>0.002202</td>\n",
       "      <td>0.003178</td>\n",
       "    </tr>\n",
       "    <tr>\n",
       "      <th>distance</th>\n",
       "      <td>0.002282</td>\n",
       "      <td>0.002965</td>\n",
       "      <td>0.009645</td>\n",
       "    </tr>\n",
       "  </tbody>\n",
       "</table>\n",
       "</div>"
      ],
      "text/plain": [
       "              1.6m      3.2m      4.8m\n",
       "width     0.001494  0.002208  0.003176\n",
       "height    0.002266  0.002487  0.002052\n",
       "depth     0.001493  0.002202  0.003178\n",
       "distance  0.002282  0.002965  0.009645"
      ]
     },
     "execution_count": 27,
     "metadata": {},
     "output_type": "execute_result"
    }
   ],
   "source": [
    "data1=[]\n",
    "data2=[]\n",
    "data3=[]\n",
    "data4=[]\n",
    "for i in range(0, numberOfColumns):\n",
    "    if(i%4==0):\n",
    "          data1.append(Max_measurement_deviation[i])\n",
    "    if(i%4==1):\n",
    "          data2.append(Max_measurement_deviation[i])\n",
    "    if(i%4==2):\n",
    "          data3.append(Max_measurement_deviation[i])\n",
    "    if(i%4==3):\n",
    "          data4.append(Max_measurement_deviation[i])\n",
    "    \n",
    "    \n",
    "data=[data1,data2,data3,data4]\n",
    "rows = [\"width\", \"height\", \"depth\",\"distance\"]\n",
    "columns = [\"1.6m\", \"3.2m\", \"4.8m\"]\n",
    "df_latex = pd.DataFrame(data=data, index=rows, columns=columns)\n",
    "df_latex"
   ]
  },
  {
   "cell_type": "code",
   "execution_count": 28,
   "id": "2ed41b2f",
   "metadata": {},
   "outputs": [
    {
     "name": "stdout",
     "output_type": "stream",
     "text": [
      "\\begin{tabular}{lrrr}\n",
      "\\toprule\n",
      "{} &      1.6m &      3.2m &      4.8m \\\\\n",
      "\\midrule\n",
      "width    &  0.001494 &  0.002208 &  0.003176 \\\\\n",
      "height   &  0.002266 &  0.002487 &  0.002052 \\\\\n",
      "depth    &  0.001493 &  0.002202 &  0.003178 \\\\\n",
      "distance &  0.002282 &  0.002965 &  0.009645 \\\\\n",
      "\\bottomrule\n",
      "\\end{tabular}\n",
      "\n"
     ]
    },
    {
     "name": "stderr",
     "output_type": "stream",
     "text": [
      "/tmp/ipykernel_162948/3287978498.py:1: FutureWarning: In future versions `DataFrame.to_latex` is expected to utilise the base implementation of `Styler.to_latex` for formatting and rendering. The arguments signature may therefore change. It is recommended instead to use `DataFrame.style.to_latex` which also contains additional functionality.\n",
      "  print(df_latex.to_latex(index=True))\n"
     ]
    }
   ],
   "source": [
    "print(df_latex.to_latex(index=True))  "
   ]
  },
  {
   "cell_type": "code",
   "execution_count": 29,
   "id": "899c0a23",
   "metadata": {},
   "outputs": [
    {
     "data": {
      "text/html": [
       "<div>\n",
       "<style scoped>\n",
       "    .dataframe tbody tr th:only-of-type {\n",
       "        vertical-align: middle;\n",
       "    }\n",
       "\n",
       "    .dataframe tbody tr th {\n",
       "        vertical-align: top;\n",
       "    }\n",
       "\n",
       "    .dataframe thead th {\n",
       "        text-align: right;\n",
       "    }\n",
       "</style>\n",
       "<table border=\"1\" class=\"dataframe\">\n",
       "  <thead>\n",
       "    <tr style=\"text-align: right;\">\n",
       "      <th></th>\n",
       "      <th>1.6m</th>\n",
       "      <th>3.2m</th>\n",
       "      <th>4.8m</th>\n",
       "    </tr>\n",
       "  </thead>\n",
       "  <tbody>\n",
       "    <tr>\n",
       "      <th>width</th>\n",
       "      <td>0.108668</td>\n",
       "      <td>0.123106</td>\n",
       "      <td>0.146062</td>\n",
       "    </tr>\n",
       "    <tr>\n",
       "      <th>height</th>\n",
       "      <td>-0.206338</td>\n",
       "      <td>0.057186</td>\n",
       "      <td>0.151419</td>\n",
       "    </tr>\n",
       "    <tr>\n",
       "      <th>depth</th>\n",
       "      <td>0.248653</td>\n",
       "      <td>0.263086</td>\n",
       "      <td>0.286048</td>\n",
       "    </tr>\n",
       "    <tr>\n",
       "      <th>distance</th>\n",
       "      <td>-0.124527</td>\n",
       "      <td>-0.052672</td>\n",
       "      <td>0.137445</td>\n",
       "    </tr>\n",
       "  </tbody>\n",
       "</table>\n",
       "</div>"
      ],
      "text/plain": [
       "              1.6m      3.2m      4.8m\n",
       "width     0.108668  0.123106  0.146062\n",
       "height   -0.206338  0.057186  0.151419\n",
       "depth     0.248653  0.263086  0.286048\n",
       "distance -0.124527 -0.052672  0.137445"
      ]
     },
     "execution_count": 29,
     "metadata": {},
     "output_type": "execute_result"
    }
   ],
   "source": [
    "data1=[]\n",
    "data2=[]\n",
    "data3=[]\n",
    "data4=[]\n",
    "for i in range(0, numberOfColumns):\n",
    "    if(i%4==0):\n",
    "          data1.append(Deviation_to_real[i])\n",
    "    if(i%4==1):\n",
    "          data2.append(Deviation_to_real[i])\n",
    "    if(i%4==2):\n",
    "          data3.append(Deviation_to_real[i])\n",
    "    if(i%4==3):\n",
    "          data4.append(Deviation_to_real[i])\n",
    "    \n",
    "    \n",
    "data=[data1,data2,data3,data4]\n",
    "rows = [\"width\", \"height\", \"depth\",\"distance\"]\n",
    "columns = [\"1.6m\", \"3.2m\", \"4.8m\"]\n",
    "df_latex = pd.DataFrame(data=data, index=rows, columns=columns)\n",
    "df_latex"
   ]
  },
  {
   "cell_type": "code",
   "execution_count": 30,
   "id": "a2ee7d2d",
   "metadata": {},
   "outputs": [
    {
     "name": "stdout",
     "output_type": "stream",
     "text": [
      "\\begin{tabular}{lrrr}\n",
      "\\toprule\n",
      "{} &      1.6m &      3.2m &      4.8m \\\\\n",
      "\\midrule\n",
      "width    &  0.108668 &  0.123106 &  0.146062 \\\\\n",
      "height   & -0.206338 &  0.057186 &  0.151419 \\\\\n",
      "depth    &  0.248653 &  0.263086 &  0.286048 \\\\\n",
      "distance & -0.124527 & -0.052672 &  0.137445 \\\\\n",
      "\\bottomrule\n",
      "\\end{tabular}\n",
      "\n"
     ]
    },
    {
     "name": "stderr",
     "output_type": "stream",
     "text": [
      "/tmp/ipykernel_162948/3572654409.py:1: FutureWarning: In future versions `DataFrame.to_latex` is expected to utilise the base implementation of `Styler.to_latex` for formatting and rendering. The arguments signature may therefore change. It is recommended instead to use `DataFrame.style.to_latex` which also contains additional functionality.\n",
      "  print(df_latex.to_latex(index=True))\n"
     ]
    }
   ],
   "source": [
    "print(df_latex.to_latex(index=True))  \n"
   ]
  },
  {
   "cell_type": "code",
   "execution_count": null,
   "id": "4ce6f3e3",
   "metadata": {},
   "outputs": [],
   "source": []
  },
  {
   "cell_type": "code",
   "execution_count": null,
   "id": "aa081eb1",
   "metadata": {},
   "outputs": [],
   "source": []
  },
  {
   "cell_type": "code",
   "execution_count": null,
   "id": "9b7b41b5",
   "metadata": {},
   "outputs": [],
   "source": []
  },
  {
   "cell_type": "code",
   "execution_count": null,
   "id": "eea74625",
   "metadata": {},
   "outputs": [],
   "source": []
  }
 ],
 "metadata": {
  "kernelspec": {
   "display_name": "Python 3 (ipykernel)",
   "language": "python",
   "name": "python3"
  },
  "language_info": {
   "codemirror_mode": {
    "name": "ipython",
    "version": 3
   },
   "file_extension": ".py",
   "mimetype": "text/x-python",
   "name": "python",
   "nbconvert_exporter": "python",
   "pygments_lexer": "ipython3",
   "version": "3.8.10"
  }
 },
 "nbformat": 4,
 "nbformat_minor": 5
}
