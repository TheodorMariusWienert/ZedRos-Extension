{
 "cells": [
  {
   "cell_type": "code",
   "execution_count": 1,
   "id": "2cb93286",
   "metadata": {},
   "outputs": [],
   "source": [
    "import pandas as pd\n",
    "import numpy as np\n",
    "import matplotlib.pyplot as plt\n",
    "from array import *\n",
    "import statistics\n",
    "import glob\n",
    "import os"
   ]
  },
  {
   "cell_type": "code",
   "execution_count": 2,
   "id": "e681b23b",
   "metadata": {},
   "outputs": [],
   "source": [
    "path =\"/home/theubuntu/ZedRos_CustomDetection/YoloV5 ResultsonTest/tiago\""
   ]
  },
  {
   "cell_type": "code",
   "execution_count": 3,
   "id": "b07438fa",
   "metadata": {},
   "outputs": [
    {
     "name": "stdout",
     "output_type": "stream",
     "text": [
      "['/home/theubuntu/ZedRos_CustomDetection/YoloV5 ResultsonTest/tiago/2_posData_Tiago_3.2m.txt', '/home/theubuntu/ZedRos_CustomDetection/YoloV5 ResultsonTest/tiago/1_posData_Tiago_1_6m.txt', '/home/theubuntu/ZedRos_CustomDetection/YoloV5 ResultsonTest/tiago/3_posData_Tiago_4_8m.txt']\n"
     ]
    }
   ],
   "source": [
    "print(glob.glob(path+\"/*.txt\")) "
   ]
  },
  {
   "cell_type": "code",
   "execution_count": 4,
   "id": "19213fd4",
   "metadata": {},
   "outputs": [
    {
     "data": {
      "text/plain": [
       "['/home/theubuntu/ZedRos_CustomDetection/YoloV5 ResultsonTest/tiago/1_posData_Tiago_1_6m.txt',\n",
       " '/home/theubuntu/ZedRos_CustomDetection/YoloV5 ResultsonTest/tiago/2_posData_Tiago_3.2m.txt',\n",
       " '/home/theubuntu/ZedRos_CustomDetection/YoloV5 ResultsonTest/tiago/3_posData_Tiago_4_8m.txt']"
      ]
     },
     "execution_count": 4,
     "metadata": {},
     "output_type": "execute_result"
    }
   ],
   "source": [
    "files =glob.glob(path+\"/*.txt\")\n",
    "files.sort()\n",
    "files"
   ]
  },
  {
   "cell_type": "code",
   "execution_count": 5,
   "id": "8a34cbab",
   "metadata": {},
   "outputs": [],
   "source": [
    "list_dfs = []\n",
    "df = pd.DataFrame()\n",
    "for file in files:\n",
    "    df_l = pd.read_csv(file, index_col=None, header=0)\n",
    "    df_l = df_l.iloc[: , :-1]\n",
    "    list_dfs.append(df_l)\n",
    "\n",
    "\n",
    "df = pd.concat(list_dfs, axis=1, ignore_index=True)"
   ]
  },
  {
   "cell_type": "code",
   "execution_count": 6,
   "id": "42df0820",
   "metadata": {},
   "outputs": [
    {
     "data": {
      "text/html": [
       "<div>\n",
       "<style scoped>\n",
       "    .dataframe tbody tr th:only-of-type {\n",
       "        vertical-align: middle;\n",
       "    }\n",
       "\n",
       "    .dataframe tbody tr th {\n",
       "        vertical-align: top;\n",
       "    }\n",
       "\n",
       "    .dataframe thead th {\n",
       "        text-align: right;\n",
       "    }\n",
       "</style>\n",
       "<table border=\"1\" class=\"dataframe\">\n",
       "  <thead>\n",
       "    <tr style=\"text-align: right;\">\n",
       "      <th></th>\n",
       "      <th>0</th>\n",
       "      <th>1</th>\n",
       "      <th>2</th>\n",
       "      <th>3</th>\n",
       "      <th>4</th>\n",
       "      <th>5</th>\n",
       "      <th>6</th>\n",
       "      <th>7</th>\n",
       "      <th>8</th>\n",
       "      <th>9</th>\n",
       "      <th>10</th>\n",
       "      <th>11</th>\n",
       "    </tr>\n",
       "  </thead>\n",
       "  <tbody>\n",
       "    <tr>\n",
       "      <th>0</th>\n",
       "      <td>0.634300</td>\n",
       "      <td>1.200187</td>\n",
       "      <td>0.634281</td>\n",
       "      <td>1.459651</td>\n",
       "      <td>0.576868</td>\n",
       "      <td>1.162129</td>\n",
       "      <td>0.576849</td>\n",
       "      <td>3.152749</td>\n",
       "      <td>0.586017</td>\n",
       "      <td>1.189138</td>\n",
       "      <td>0.585999</td>\n",
       "      <td>4.886504</td>\n",
       "    </tr>\n",
       "    <tr>\n",
       "      <th>1</th>\n",
       "      <td>0.634084</td>\n",
       "      <td>1.199918</td>\n",
       "      <td>0.634067</td>\n",
       "      <td>1.459436</td>\n",
       "      <td>0.576468</td>\n",
       "      <td>1.162047</td>\n",
       "      <td>0.576451</td>\n",
       "      <td>3.152625</td>\n",
       "      <td>0.586861</td>\n",
       "      <td>1.188906</td>\n",
       "      <td>0.586843</td>\n",
       "      <td>4.885694</td>\n",
       "    </tr>\n",
       "    <tr>\n",
       "      <th>2</th>\n",
       "      <td>0.633958</td>\n",
       "      <td>1.201786</td>\n",
       "      <td>0.633940</td>\n",
       "      <td>1.460196</td>\n",
       "      <td>0.578758</td>\n",
       "      <td>1.162344</td>\n",
       "      <td>0.578741</td>\n",
       "      <td>3.151320</td>\n",
       "      <td>0.587534</td>\n",
       "      <td>1.188729</td>\n",
       "      <td>0.587516</td>\n",
       "      <td>4.885221</td>\n",
       "    </tr>\n",
       "    <tr>\n",
       "      <th>3</th>\n",
       "      <td>0.632501</td>\n",
       "      <td>1.201391</td>\n",
       "      <td>0.632483</td>\n",
       "      <td>1.460787</td>\n",
       "      <td>0.577970</td>\n",
       "      <td>1.162192</td>\n",
       "      <td>0.577953</td>\n",
       "      <td>3.151501</td>\n",
       "      <td>0.584132</td>\n",
       "      <td>1.189046</td>\n",
       "      <td>0.584113</td>\n",
       "      <td>4.886725</td>\n",
       "    </tr>\n",
       "    <tr>\n",
       "      <th>4</th>\n",
       "      <td>0.632679</td>\n",
       "      <td>1.201262</td>\n",
       "      <td>0.632661</td>\n",
       "      <td>1.460602</td>\n",
       "      <td>0.577330</td>\n",
       "      <td>1.162027</td>\n",
       "      <td>0.577313</td>\n",
       "      <td>3.151545</td>\n",
       "      <td>0.585339</td>\n",
       "      <td>1.189432</td>\n",
       "      <td>0.585320</td>\n",
       "      <td>4.885816</td>\n",
       "    </tr>\n",
       "  </tbody>\n",
       "</table>\n",
       "</div>"
      ],
      "text/plain": [
       "         0         1         2         3         4         5         6   \\\n",
       "0  0.634300  1.200187  0.634281  1.459651  0.576868  1.162129  0.576849   \n",
       "1  0.634084  1.199918  0.634067  1.459436  0.576468  1.162047  0.576451   \n",
       "2  0.633958  1.201786  0.633940  1.460196  0.578758  1.162344  0.578741   \n",
       "3  0.632501  1.201391  0.632483  1.460787  0.577970  1.162192  0.577953   \n",
       "4  0.632679  1.201262  0.632661  1.460602  0.577330  1.162027  0.577313   \n",
       "\n",
       "         7         8         9         10        11  \n",
       "0  3.152749  0.586017  1.189138  0.585999  4.886504  \n",
       "1  3.152625  0.586861  1.188906  0.586843  4.885694  \n",
       "2  3.151320  0.587534  1.188729  0.587516  4.885221  \n",
       "3  3.151501  0.584132  1.189046  0.584113  4.886725  \n",
       "4  3.151545  0.585339  1.189432  0.585320  4.885816  "
      ]
     },
     "execution_count": 6,
     "metadata": {},
     "output_type": "execute_result"
    }
   ],
   "source": [
    "df.head()"
   ]
  },
  {
   "cell_type": "code",
   "execution_count": 7,
   "id": "d453f266",
   "metadata": {},
   "outputs": [],
   "source": [
    "#All measurements in meter\n",
    "measurements_real_life=[0.425,1.11, 0.425] #width, hight, depth of pepper robot\n",
    "distances_real_life =[1.6,3.2,4.8]\n"
   ]
  },
  {
   "cell_type": "code",
   "execution_count": 8,
   "id": "0d5c41bc",
   "metadata": {},
   "outputs": [],
   "source": [
    "numberOfColumns=df.shape[1]\n",
    "numberOfRows =df.shape[0]"
   ]
  },
  {
   "cell_type": "code",
   "execution_count": 9,
   "id": "5d8aae0a",
   "metadata": {},
   "outputs": [],
   "source": [
    "Max_measurement=[0 for i in range(numberOfColumns)] \n",
    "Min_measurement=[0 for i in range(numberOfColumns)] \n",
    "Mean_measurement=[0 for i in range(numberOfColumns)] \n",
    "Max_measurement_deviation=[0 for i in range(numberOfColumns)] \n",
    "Deviation_to_real=[0 for i in range(numberOfColumns)] "
   ]
  },
  {
   "cell_type": "code",
   "execution_count": null,
   "id": "3377764f",
   "metadata": {},
   "outputs": [],
   "source": []
  },
  {
   "cell_type": "code",
   "execution_count": 10,
   "id": "89cb8c80",
   "metadata": {},
   "outputs": [],
   "source": [
    "for i in range(0, numberOfColumns):\n",
    "    Max_measurement[i] = df[df.columns[i]].max()\n",
    "    Mean_measurement[i]= df[df.columns[i]].mean()\n",
    "    Min_measurement[i]= df[df.columns[i]].min()"
   ]
  },
  {
   "cell_type": "code",
   "execution_count": 11,
   "id": "c5243564",
   "metadata": {},
   "outputs": [
    {
     "name": "stdout",
     "output_type": "stream",
     "text": [
      "0.6329426666666668\n",
      "1.2017516161616162\n",
      "0.6329242121212122\n",
      "1.4603109494949493\n",
      "0.5852610202020202\n",
      "1.167144\n",
      "0.5852437171717172\n",
      "3.187410888888889\n",
      "0.5886205050505051\n",
      "1.1912124949494949\n",
      "0.5886019797979798\n",
      "4.885798373737374\n"
     ]
    }
   ],
   "source": [
    "for i in range(0, numberOfColumns):\n",
    "    print(Mean_measurement[i])"
   ]
  },
  {
   "cell_type": "code",
   "execution_count": 12,
   "id": "cf9eec35",
   "metadata": {},
   "outputs": [
    {
     "name": "stdout",
     "output_type": "stream",
     "text": [
      "0.0034156666666668167\n",
      "0.00884238383838376\n",
      "0.003414212121212179\n",
      "0.0032050505050507105\n",
      "0.6562819797979799\n",
      "0.6172660000000001\n",
      "0.6562592828282828\n",
      "3.4585051111111107\n",
      "0.008379494949494859\n",
      "0.0028154949494949566\n",
      "0.008379020202020193\n",
      "0.004231373737373367\n"
     ]
    }
   ],
   "source": [
    "for i in range(0, numberOfColumns):\n",
    "    Max_measurement_deviation[i]=Max_measurement[i]-Mean_measurement[i]\n",
    "    temp=Mean_measurement[i]- Min_measurement[i]\n",
    "    if(temp>Max_measurement_deviation[i]):\n",
    "        Max_measurement_deviation[i]=temp\n",
    "    print(Max_measurement_deviation[i])\n",
    "        "
   ]
  },
  {
   "cell_type": "code",
   "execution_count": 21,
   "id": "c9f85e10",
   "metadata": {},
   "outputs": [],
   "source": [
    "#Now calculate the deviation from the real life measurements with the mean \n",
    "for i in range(0, numberOfColumns):\n",
    " \n",
    "    if i==3 or i==7  or i==11:   #distance \n",
    "        Deviation_to_real[i]=Mean_measurement[i]-distances_real_life[i%3]\n",
    "    else:\n",
    "       Deviation_to_real[i]=Mean_measurement[i]-measurements_real_life[i%4]\n",
    "        \n"
   ]
  },
  {
   "cell_type": "code",
   "execution_count": 22,
   "id": "d182318b",
   "metadata": {},
   "outputs": [
    {
     "name": "stdout",
     "output_type": "stream",
     "text": [
      "0.20794266666666678\n",
      "0.09175161616161609\n",
      "0.2079242121212122\n",
      "-0.13968905050505076\n",
      "0.1602610202020202\n",
      "0.05714399999999986\n",
      "0.1602437171717172\n",
      "-0.012589111111111162\n",
      "0.16362050505050513\n",
      "0.08121249494949478\n",
      "0.1636019797979798\n",
      "0.08579837373737398\n"
     ]
    }
   ],
   "source": [
    "for i in range(0, numberOfColumns):\n",
    "    print(Deviation_to_real[i])"
   ]
  },
  {
   "cell_type": "code",
   "execution_count": null,
   "id": "f3f6c769",
   "metadata": {},
   "outputs": [],
   "source": [
    "#For Latex"
   ]
  },
  {
   "cell_type": "code",
   "execution_count": 23,
   "id": "d80f82c8",
   "metadata": {},
   "outputs": [
    {
     "data": {
      "text/html": [
       "<div>\n",
       "<style scoped>\n",
       "    .dataframe tbody tr th:only-of-type {\n",
       "        vertical-align: middle;\n",
       "    }\n",
       "\n",
       "    .dataframe tbody tr th {\n",
       "        vertical-align: top;\n",
       "    }\n",
       "\n",
       "    .dataframe thead th {\n",
       "        text-align: right;\n",
       "    }\n",
       "</style>\n",
       "<table border=\"1\" class=\"dataframe\">\n",
       "  <thead>\n",
       "    <tr style=\"text-align: right;\">\n",
       "      <th></th>\n",
       "      <th>1.6m</th>\n",
       "      <th>3.2m</th>\n",
       "      <th>4.8m</th>\n",
       "    </tr>\n",
       "  </thead>\n",
       "  <tbody>\n",
       "    <tr>\n",
       "      <th>width</th>\n",
       "      <td>0.632943</td>\n",
       "      <td>0.585261</td>\n",
       "      <td>0.588621</td>\n",
       "    </tr>\n",
       "    <tr>\n",
       "      <th>height</th>\n",
       "      <td>1.201752</td>\n",
       "      <td>1.167144</td>\n",
       "      <td>1.191212</td>\n",
       "    </tr>\n",
       "    <tr>\n",
       "      <th>depth</th>\n",
       "      <td>0.632924</td>\n",
       "      <td>0.585244</td>\n",
       "      <td>0.588602</td>\n",
       "    </tr>\n",
       "    <tr>\n",
       "      <th>distance</th>\n",
       "      <td>1.460311</td>\n",
       "      <td>3.187411</td>\n",
       "      <td>4.885798</td>\n",
       "    </tr>\n",
       "  </tbody>\n",
       "</table>\n",
       "</div>"
      ],
      "text/plain": [
       "              1.6m      3.2m      4.8m\n",
       "width     0.632943  0.585261  0.588621\n",
       "height    1.201752  1.167144  1.191212\n",
       "depth     0.632924  0.585244  0.588602\n",
       "distance  1.460311  3.187411  4.885798"
      ]
     },
     "execution_count": 23,
     "metadata": {},
     "output_type": "execute_result"
    }
   ],
   "source": [
    "data1=[]\n",
    "data2=[]\n",
    "data3=[]\n",
    "data4=[]\n",
    "for i in range(0, numberOfColumns):\n",
    "    if(i%4==0):\n",
    "          data1.append(Mean_measurement[i])\n",
    "    if(i%4==1):\n",
    "          data2.append(Mean_measurement[i])\n",
    "    if(i%4==2):\n",
    "          data3.append(Mean_measurement[i])\n",
    "    if(i%4==3):\n",
    "          data4.append(Mean_measurement[i])\n",
    "    \n",
    "    \n",
    "data=[data1,data2,data3,data4]\n",
    "rows = [\"width\", \"height\", \"depth\",\"distance\"]\n",
    "columns = [\"1.6m\", \"3.2m\", \"4.8m\"]\n",
    "df_latex = pd.DataFrame(data=data, index=rows, columns=columns)\n",
    "df_latex"
   ]
  },
  {
   "cell_type": "code",
   "execution_count": 24,
   "id": "6a4bca35",
   "metadata": {},
   "outputs": [
    {
     "name": "stdout",
     "output_type": "stream",
     "text": [
      "\\begin{tabular}{lrrr}\n",
      "\\toprule\n",
      "{} &      1.6m &      3.2m &      4.8m \\\\\n",
      "\\midrule\n",
      "width    &  0.632943 &  0.585261 &  0.588621 \\\\\n",
      "height   &  1.201752 &  1.167144 &  1.191212 \\\\\n",
      "depth    &  0.632924 &  0.585244 &  0.588602 \\\\\n",
      "distance &  1.460311 &  3.187411 &  4.885798 \\\\\n",
      "\\bottomrule\n",
      "\\end{tabular}\n",
      "\n"
     ]
    },
    {
     "name": "stderr",
     "output_type": "stream",
     "text": [
      "/tmp/ipykernel_166823/3287978498.py:1: FutureWarning: In future versions `DataFrame.to_latex` is expected to utilise the base implementation of `Styler.to_latex` for formatting and rendering. The arguments signature may therefore change. It is recommended instead to use `DataFrame.style.to_latex` which also contains additional functionality.\n",
      "  print(df_latex.to_latex(index=True))\n"
     ]
    }
   ],
   "source": [
    "print(df_latex.to_latex(index=True))  "
   ]
  },
  {
   "cell_type": "code",
   "execution_count": 25,
   "id": "7071d069",
   "metadata": {},
   "outputs": [
    {
     "data": {
      "text/html": [
       "<div>\n",
       "<style scoped>\n",
       "    .dataframe tbody tr th:only-of-type {\n",
       "        vertical-align: middle;\n",
       "    }\n",
       "\n",
       "    .dataframe tbody tr th {\n",
       "        vertical-align: top;\n",
       "    }\n",
       "\n",
       "    .dataframe thead th {\n",
       "        text-align: right;\n",
       "    }\n",
       "</style>\n",
       "<table border=\"1\" class=\"dataframe\">\n",
       "  <thead>\n",
       "    <tr style=\"text-align: right;\">\n",
       "      <th></th>\n",
       "      <th>1.6m</th>\n",
       "      <th>3.2m</th>\n",
       "      <th>4.8m</th>\n",
       "    </tr>\n",
       "  </thead>\n",
       "  <tbody>\n",
       "    <tr>\n",
       "      <th>width</th>\n",
       "      <td>0.003416</td>\n",
       "      <td>0.656282</td>\n",
       "      <td>0.008379</td>\n",
       "    </tr>\n",
       "    <tr>\n",
       "      <th>height</th>\n",
       "      <td>0.008842</td>\n",
       "      <td>0.617266</td>\n",
       "      <td>0.002815</td>\n",
       "    </tr>\n",
       "    <tr>\n",
       "      <th>depth</th>\n",
       "      <td>0.003414</td>\n",
       "      <td>0.656259</td>\n",
       "      <td>0.008379</td>\n",
       "    </tr>\n",
       "    <tr>\n",
       "      <th>distance</th>\n",
       "      <td>0.003205</td>\n",
       "      <td>3.458505</td>\n",
       "      <td>0.004231</td>\n",
       "    </tr>\n",
       "  </tbody>\n",
       "</table>\n",
       "</div>"
      ],
      "text/plain": [
       "              1.6m      3.2m      4.8m\n",
       "width     0.003416  0.656282  0.008379\n",
       "height    0.008842  0.617266  0.002815\n",
       "depth     0.003414  0.656259  0.008379\n",
       "distance  0.003205  3.458505  0.004231"
      ]
     },
     "execution_count": 25,
     "metadata": {},
     "output_type": "execute_result"
    }
   ],
   "source": [
    "data1=[]\n",
    "data2=[]\n",
    "data3=[]\n",
    "data4=[]\n",
    "for i in range(0, numberOfColumns):\n",
    "    if(i%4==0):\n",
    "          data1.append(Max_measurement_deviation[i])\n",
    "    if(i%4==1):\n",
    "          data2.append(Max_measurement_deviation[i])\n",
    "    if(i%4==2):\n",
    "          data3.append(Max_measurement_deviation[i])\n",
    "    if(i%4==3):\n",
    "          data4.append(Max_measurement_deviation[i])\n",
    "    \n",
    "    \n",
    "data=[data1,data2,data3,data4]\n",
    "rows = [\"width\", \"height\", \"depth\",\"distance\"]\n",
    "columns = [\"1.6m\", \"3.2m\", \"4.8m\"]\n",
    "df_latex = pd.DataFrame(data=data, index=rows, columns=columns)\n",
    "df_latex"
   ]
  },
  {
   "cell_type": "code",
   "execution_count": 26,
   "id": "9531f9f7",
   "metadata": {},
   "outputs": [
    {
     "name": "stdout",
     "output_type": "stream",
     "text": [
      "\\begin{tabular}{lrrr}\n",
      "\\toprule\n",
      "{} &      1.6m &      3.2m &      4.8m \\\\\n",
      "\\midrule\n",
      "width    &  0.003416 &  0.656282 &  0.008379 \\\\\n",
      "height   &  0.008842 &  0.617266 &  0.002815 \\\\\n",
      "depth    &  0.003414 &  0.656259 &  0.008379 \\\\\n",
      "distance &  0.003205 &  3.458505 &  0.004231 \\\\\n",
      "\\bottomrule\n",
      "\\end{tabular}\n",
      "\n"
     ]
    },
    {
     "name": "stderr",
     "output_type": "stream",
     "text": [
      "/tmp/ipykernel_166823/3287978498.py:1: FutureWarning: In future versions `DataFrame.to_latex` is expected to utilise the base implementation of `Styler.to_latex` for formatting and rendering. The arguments signature may therefore change. It is recommended instead to use `DataFrame.style.to_latex` which also contains additional functionality.\n",
      "  print(df_latex.to_latex(index=True))\n"
     ]
    }
   ],
   "source": [
    "print(df_latex.to_latex(index=True))  "
   ]
  },
  {
   "cell_type": "code",
   "execution_count": 27,
   "id": "899c0a23",
   "metadata": {},
   "outputs": [
    {
     "data": {
      "text/html": [
       "<div>\n",
       "<style scoped>\n",
       "    .dataframe tbody tr th:only-of-type {\n",
       "        vertical-align: middle;\n",
       "    }\n",
       "\n",
       "    .dataframe tbody tr th {\n",
       "        vertical-align: top;\n",
       "    }\n",
       "\n",
       "    .dataframe thead th {\n",
       "        text-align: right;\n",
       "    }\n",
       "</style>\n",
       "<table border=\"1\" class=\"dataframe\">\n",
       "  <thead>\n",
       "    <tr style=\"text-align: right;\">\n",
       "      <th></th>\n",
       "      <th>1.6m</th>\n",
       "      <th>3.2m</th>\n",
       "      <th>4.8m</th>\n",
       "    </tr>\n",
       "  </thead>\n",
       "  <tbody>\n",
       "    <tr>\n",
       "      <th>width</th>\n",
       "      <td>0.207943</td>\n",
       "      <td>0.160261</td>\n",
       "      <td>0.163621</td>\n",
       "    </tr>\n",
       "    <tr>\n",
       "      <th>height</th>\n",
       "      <td>0.091752</td>\n",
       "      <td>0.057144</td>\n",
       "      <td>0.081212</td>\n",
       "    </tr>\n",
       "    <tr>\n",
       "      <th>depth</th>\n",
       "      <td>0.207924</td>\n",
       "      <td>0.160244</td>\n",
       "      <td>0.163602</td>\n",
       "    </tr>\n",
       "    <tr>\n",
       "      <th>distance</th>\n",
       "      <td>-0.139689</td>\n",
       "      <td>-0.012589</td>\n",
       "      <td>0.085798</td>\n",
       "    </tr>\n",
       "  </tbody>\n",
       "</table>\n",
       "</div>"
      ],
      "text/plain": [
       "              1.6m      3.2m      4.8m\n",
       "width     0.207943  0.160261  0.163621\n",
       "height    0.091752  0.057144  0.081212\n",
       "depth     0.207924  0.160244  0.163602\n",
       "distance -0.139689 -0.012589  0.085798"
      ]
     },
     "execution_count": 27,
     "metadata": {},
     "output_type": "execute_result"
    }
   ],
   "source": [
    "data1=[]\n",
    "data2=[]\n",
    "data3=[]\n",
    "data4=[]\n",
    "for i in range(0, numberOfColumns):\n",
    "    if(i%4==0):\n",
    "          data1.append(Deviation_to_real[i])\n",
    "    if(i%4==1):\n",
    "          data2.append(Deviation_to_real[i])\n",
    "    if(i%4==2):\n",
    "          data3.append(Deviation_to_real[i])\n",
    "    if(i%4==3):\n",
    "          data4.append(Deviation_to_real[i])\n",
    "    \n",
    "    \n",
    "data=[data1,data2,data3,data4]\n",
    "rows = [\"width\", \"height\", \"depth\",\"distance\"]\n",
    "columns = [\"1.6m\", \"3.2m\", \"4.8m\"]\n",
    "df_latex = pd.DataFrame(data=data, index=rows, columns=columns)\n",
    "df_latex"
   ]
  },
  {
   "cell_type": "code",
   "execution_count": 28,
   "id": "a2ee7d2d",
   "metadata": {},
   "outputs": [
    {
     "name": "stdout",
     "output_type": "stream",
     "text": [
      "\\begin{tabular}{lrrr}\n",
      "\\toprule\n",
      "{} &      1.6m &      3.2m &      4.8m \\\\\n",
      "\\midrule\n",
      "width    &  0.207943 &  0.160261 &  0.163621 \\\\\n",
      "height   &  0.091752 &  0.057144 &  0.081212 \\\\\n",
      "depth    &  0.207924 &  0.160244 &  0.163602 \\\\\n",
      "distance & -0.139689 & -0.012589 &  0.085798 \\\\\n",
      "\\bottomrule\n",
      "\\end{tabular}\n",
      "\n"
     ]
    },
    {
     "name": "stderr",
     "output_type": "stream",
     "text": [
      "/tmp/ipykernel_166823/3669379685.py:1: FutureWarning: In future versions `DataFrame.to_latex` is expected to utilise the base implementation of `Styler.to_latex` for formatting and rendering. The arguments signature may therefore change. It is recommended instead to use `DataFrame.style.to_latex` which also contains additional functionality.\n",
      "  print(df_latex.to_latex(index=True))\n"
     ]
    }
   ],
   "source": [
    "\n",
    "print(df_latex.to_latex(index=True))  "
   ]
  },
  {
   "cell_type": "code",
   "execution_count": null,
   "id": "8954e5dd",
   "metadata": {},
   "outputs": [],
   "source": []
  },
  {
   "cell_type": "code",
   "execution_count": null,
   "id": "a3d1e274",
   "metadata": {},
   "outputs": [],
   "source": []
  }
 ],
 "metadata": {
  "kernelspec": {
   "display_name": "Python 3 (ipykernel)",
   "language": "python",
   "name": "python3"
  },
  "language_info": {
   "codemirror_mode": {
    "name": "ipython",
    "version": 3
   },
   "file_extension": ".py",
   "mimetype": "text/x-python",
   "name": "python",
   "nbconvert_exporter": "python",
   "pygments_lexer": "ipython3",
   "version": "3.8.10"
  }
 },
 "nbformat": 4,
 "nbformat_minor": 5
}
