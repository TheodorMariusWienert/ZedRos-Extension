{
 "cells": [
  {
   "cell_type": "code",
   "execution_count": 1,
   "id": "2cb93286",
   "metadata": {},
   "outputs": [],
   "source": [
    "import pandas as pd\n",
    "import numpy as np\n",
    "import matplotlib.pyplot as plt\n",
    "from array import *\n",
    "import statistics\n",
    "import glob\n",
    "import os"
   ]
  },
  {
   "cell_type": "code",
   "execution_count": 2,
   "id": "0c8a3c87",
   "metadata": {},
   "outputs": [],
   "source": [
    "path =\"/home/theubuntu/ZedRos_CustomDetection/YoloV5 ResultsonTest/pepper\""
   ]
  },
  {
   "cell_type": "code",
   "execution_count": 3,
   "id": "7e0ffdc7",
   "metadata": {},
   "outputs": [
    {
     "name": "stdout",
     "output_type": "stream",
     "text": [
      "['/home/theubuntu/ZedRos_CustomDetection/YoloV5 ResultsonTest/pepper/1_posData_pepper_1_6m.txt', '/home/theubuntu/ZedRos_CustomDetection/YoloV5 ResultsonTest/pepper/2_posData_pepper_3,2m.txt', '/home/theubuntu/ZedRos_CustomDetection/YoloV5 ResultsonTest/pepper/3_posData_pepper_4_8m.txt']\n"
     ]
    }
   ],
   "source": [
    "print(glob.glob(path+\"/*.txt\")) "
   ]
  },
  {
   "cell_type": "code",
   "execution_count": 4,
   "id": "75a7bbb5",
   "metadata": {},
   "outputs": [
    {
     "data": {
      "text/plain": [
       "['/home/theubuntu/ZedRos_CustomDetection/YoloV5 ResultsonTest/pepper/1_posData_pepper_1_6m.txt',\n",
       " '/home/theubuntu/ZedRos_CustomDetection/YoloV5 ResultsonTest/pepper/2_posData_pepper_3,2m.txt',\n",
       " '/home/theubuntu/ZedRos_CustomDetection/YoloV5 ResultsonTest/pepper/3_posData_pepper_4_8m.txt']"
      ]
     },
     "execution_count": 4,
     "metadata": {},
     "output_type": "execute_result"
    }
   ],
   "source": [
    "files =glob.glob(path+\"/*.txt\")\n",
    "files.sort()\n",
    "files"
   ]
  },
  {
   "cell_type": "code",
   "execution_count": 5,
   "id": "bf9df557",
   "metadata": {},
   "outputs": [],
   "source": [
    "list_dfs = []\n",
    "df = pd.DataFrame()\n",
    "for file in files:\n",
    "    df_l = pd.read_csv(file, index_col=None, header=0)\n",
    "    df_l = df_l.iloc[: , :-1]\n",
    "    list_dfs.append(df_l)\n",
    "\n",
    "\n",
    "df = pd.concat(list_dfs, axis=1, ignore_index=True)"
   ]
  },
  {
   "cell_type": "code",
   "execution_count": 6,
   "id": "1a88125c",
   "metadata": {},
   "outputs": [
    {
     "data": {
      "text/html": [
       "<div>\n",
       "<style scoped>\n",
       "    .dataframe tbody tr th:only-of-type {\n",
       "        vertical-align: middle;\n",
       "    }\n",
       "\n",
       "    .dataframe tbody tr th {\n",
       "        vertical-align: top;\n",
       "    }\n",
       "\n",
       "    .dataframe thead th {\n",
       "        text-align: right;\n",
       "    }\n",
       "</style>\n",
       "<table border=\"1\" class=\"dataframe\">\n",
       "  <thead>\n",
       "    <tr style=\"text-align: right;\">\n",
       "      <th></th>\n",
       "      <th>0</th>\n",
       "      <th>1</th>\n",
       "      <th>2</th>\n",
       "      <th>3</th>\n",
       "      <th>4</th>\n",
       "      <th>5</th>\n",
       "      <th>6</th>\n",
       "      <th>7</th>\n",
       "      <th>8</th>\n",
       "      <th>9</th>\n",
       "      <th>10</th>\n",
       "      <th>11</th>\n",
       "    </tr>\n",
       "  </thead>\n",
       "  <tbody>\n",
       "    <tr>\n",
       "      <th>0</th>\n",
       "      <td>0.556064</td>\n",
       "      <td>1.216212</td>\n",
       "      <td>0.556047</td>\n",
       "      <td>1.531918</td>\n",
       "      <td>0.522107</td>\n",
       "      <td>1.228508</td>\n",
       "      <td>0.522091</td>\n",
       "      <td>3.235820</td>\n",
       "      <td>0.475526</td>\n",
       "      <td>1.245905</td>\n",
       "      <td>0.475513</td>\n",
       "      <td>4.978554</td>\n",
       "    </tr>\n",
       "    <tr>\n",
       "      <th>1</th>\n",
       "      <td>0.556037</td>\n",
       "      <td>1.216187</td>\n",
       "      <td>0.556020</td>\n",
       "      <td>1.531888</td>\n",
       "      <td>0.521239</td>\n",
       "      <td>1.228536</td>\n",
       "      <td>0.521224</td>\n",
       "      <td>3.235982</td>\n",
       "      <td>0.475527</td>\n",
       "      <td>1.245915</td>\n",
       "      <td>0.475514</td>\n",
       "      <td>4.978229</td>\n",
       "    </tr>\n",
       "    <tr>\n",
       "      <th>2</th>\n",
       "      <td>0.556014</td>\n",
       "      <td>1.216129</td>\n",
       "      <td>0.555998</td>\n",
       "      <td>1.531882</td>\n",
       "      <td>0.520537</td>\n",
       "      <td>1.228684</td>\n",
       "      <td>0.520522</td>\n",
       "      <td>3.235969</td>\n",
       "      <td>0.475531</td>\n",
       "      <td>1.245975</td>\n",
       "      <td>0.475518</td>\n",
       "      <td>4.978283</td>\n",
       "    </tr>\n",
       "    <tr>\n",
       "      <th>3</th>\n",
       "      <td>0.556002</td>\n",
       "      <td>1.216062</td>\n",
       "      <td>0.555985</td>\n",
       "      <td>1.532023</td>\n",
       "      <td>0.522642</td>\n",
       "      <td>1.228720</td>\n",
       "      <td>0.522627</td>\n",
       "      <td>3.235389</td>\n",
       "      <td>0.475523</td>\n",
       "      <td>1.245974</td>\n",
       "      <td>0.475510</td>\n",
       "      <td>4.977740</td>\n",
       "    </tr>\n",
       "    <tr>\n",
       "      <th>4</th>\n",
       "      <td>0.555982</td>\n",
       "      <td>1.216202</td>\n",
       "      <td>0.555965</td>\n",
       "      <td>1.531872</td>\n",
       "      <td>0.521661</td>\n",
       "      <td>1.228631</td>\n",
       "      <td>0.521646</td>\n",
       "      <td>3.235553</td>\n",
       "      <td>0.475501</td>\n",
       "      <td>1.245981</td>\n",
       "      <td>0.475489</td>\n",
       "      <td>4.976907</td>\n",
       "    </tr>\n",
       "  </tbody>\n",
       "</table>\n",
       "</div>"
      ],
      "text/plain": [
       "         0         1         2         3         4         5         6   \\\n",
       "0  0.556064  1.216212  0.556047  1.531918  0.522107  1.228508  0.522091   \n",
       "1  0.556037  1.216187  0.556020  1.531888  0.521239  1.228536  0.521224   \n",
       "2  0.556014  1.216129  0.555998  1.531882  0.520537  1.228684  0.520522   \n",
       "3  0.556002  1.216062  0.555985  1.532023  0.522642  1.228720  0.522627   \n",
       "4  0.555982  1.216202  0.555965  1.531872  0.521661  1.228631  0.521646   \n",
       "\n",
       "         7         8         9         10        11  \n",
       "0  3.235820  0.475526  1.245905  0.475513  4.978554  \n",
       "1  3.235982  0.475527  1.245915  0.475514  4.978229  \n",
       "2  3.235969  0.475531  1.245975  0.475518  4.978283  \n",
       "3  3.235389  0.475523  1.245974  0.475510  4.977740  \n",
       "4  3.235553  0.475501  1.245981  0.475489  4.976907  "
      ]
     },
     "execution_count": 6,
     "metadata": {},
     "output_type": "execute_result"
    }
   ],
   "source": [
    "df.head()"
   ]
  },
  {
   "cell_type": "code",
   "execution_count": 7,
   "id": "d453f266",
   "metadata": {},
   "outputs": [],
   "source": [
    "#All measurements in meter\n",
    "measurements_real_life=[0.425,1.11, 0.425] #width, hight, depth of pepper robot\n",
    "distances_real_life =[1.6,3.2,4.8]\n"
   ]
  },
  {
   "cell_type": "code",
   "execution_count": 8,
   "id": "0d5c41bc",
   "metadata": {},
   "outputs": [],
   "source": [
    "numberOfColumns=df.shape[1]\n",
    "numberOfRows =df.shape[0]"
   ]
  },
  {
   "cell_type": "code",
   "execution_count": 9,
   "id": "5d8aae0a",
   "metadata": {},
   "outputs": [],
   "source": [
    "Max_measurement=[0 for i in range(numberOfColumns)] \n",
    "Min_measurement=[0 for i in range(numberOfColumns)] \n",
    "Mean_measurement=[0 for i in range(numberOfColumns)] \n",
    "Max_measurement_deviation=[0 for i in range(numberOfColumns)] \n",
    "Deviation_to_real=[0 for i in range(numberOfColumns)] "
   ]
  },
  {
   "cell_type": "code",
   "execution_count": null,
   "id": "3377764f",
   "metadata": {},
   "outputs": [],
   "source": []
  },
  {
   "cell_type": "code",
   "execution_count": 10,
   "id": "89cb8c80",
   "metadata": {},
   "outputs": [],
   "source": [
    "for i in range(0, numberOfColumns):\n",
    "    Max_measurement[i] = df[df.columns[i]].max()\n",
    "    Mean_measurement[i]= df[df.columns[i]].mean()\n",
    "    Min_measurement[i]= df[df.columns[i]].min()"
   ]
  },
  {
   "cell_type": "code",
   "execution_count": null,
   "id": "08a27075",
   "metadata": {},
   "outputs": [],
   "source": []
  },
  {
   "cell_type": "code",
   "execution_count": null,
   "id": "bd94198f",
   "metadata": {},
   "outputs": [],
   "source": []
  },
  {
   "cell_type": "code",
   "execution_count": null,
   "id": "c469b9ba",
   "metadata": {},
   "outputs": [],
   "source": []
  },
  {
   "cell_type": "code",
   "execution_count": 11,
   "id": "c5243564",
   "metadata": {},
   "outputs": [
    {
     "name": "stdout",
     "output_type": "stream",
     "text": [
      "0.5569071010101011\n",
      "0.560144\n",
      "0.554583\n",
      "1.216044676767677\n",
      "1.216713\n",
      "1.215549\n",
      "0.5568890909090909\n",
      "0.560127\n",
      "0.554565\n",
      "1.5336319090909092\n",
      "1.535321\n",
      "1.531872\n",
      "0.5187249393939394\n",
      "0.523155\n",
      "0.51376\n",
      "1.2288511919191918\n",
      "1.229669\n",
      "1.227942\n",
      "0.518710404040404\n",
      "0.523141\n",
      "0.513745\n",
      "3.2351364343434335\n",
      "3.23735\n",
      "3.232707\n",
      "0.47515952525252525\n",
      "0.475918\n",
      "0.47137\n",
      "1.2459252424242426\n",
      "1.246376\n",
      "1.245564\n",
      "0.4751467474747475\n",
      "0.475905\n",
      "0.471357\n",
      "4.976975323232324\n",
      "4.982948\n",
      "4.971574\n"
     ]
    }
   ],
   "source": [
    "for i in range(0, numberOfColumns):\n",
    "    print(Mean_measurement[i])\n",
    "    print(Max_measurement[i])\n",
    "    print(Min_measurement[i])"
   ]
  },
  {
   "cell_type": "code",
   "execution_count": 12,
   "id": "cf9eec35",
   "metadata": {},
   "outputs": [
    {
     "name": "stdout",
     "output_type": "stream",
     "text": [
      "0.003236898989898873\n",
      "0.0006683232323230204\n",
      "0.0032379090909091524\n",
      "0.001759909090909284\n",
      "0.004964939393939383\n",
      "0.0009091919191916986\n",
      "0.00496540404040402\n",
      "0.0024294343434334564\n",
      "0.0037895252525252388\n",
      "0.000450757575757299\n",
      "0.0037897474747474735\n",
      "0.0059726767676764325\n"
     ]
    }
   ],
   "source": [
    "for i in range(0, numberOfColumns):\n",
    "    Max_measurement_deviation[i]=Max_measurement[i]-Mean_measurement[i]\n",
    "    temp=Mean_measurement[i]- Min_measurement[i]\n",
    "    if(temp>Max_measurement_deviation[i]):\n",
    "        Max_measurement_deviation[i]=temp\n",
    "    print(Max_measurement_deviation[i])\n",
    "        "
   ]
  },
  {
   "cell_type": "code",
   "execution_count": 21,
   "id": "c9f85e10",
   "metadata": {},
   "outputs": [],
   "source": [
    "#Now calculate the deviation from the real life measurements with the mean \n",
    "for i in range(0, numberOfColumns):\n",
    " \n",
    "    if i==3 or i==7  or i==11:   #distance \n",
    "        Deviation_to_real[i]=Mean_measurement[i]-distances_real_life[i%3]\n",
    "    else:\n",
    "       Deviation_to_real[i]=Mean_measurement[i]-measurements_real_life[i%4]\n",
    "        \n"
   ]
  },
  {
   "cell_type": "code",
   "execution_count": 22,
   "id": "d182318b",
   "metadata": {},
   "outputs": [
    {
     "name": "stdout",
     "output_type": "stream",
     "text": [
      "0.1319071010101011\n",
      "0.10604467676767682\n",
      "0.1318890909090909\n",
      "-0.0663680909090909\n",
      "0.09372493939393939\n",
      "0.11885119191919169\n",
      "0.09371040404040404\n",
      "0.035136434343433276\n",
      "0.05015952525252526\n",
      "0.13592524242424253\n",
      "0.05014674747474751\n",
      "0.17697532323232412\n"
     ]
    }
   ],
   "source": [
    "for i in range(0, numberOfColumns):\n",
    "    print(Deviation_to_real[i])"
   ]
  },
  {
   "cell_type": "code",
   "execution_count": null,
   "id": "4f9c29ca",
   "metadata": {},
   "outputs": [],
   "source": [
    "#For Latex"
   ]
  },
  {
   "cell_type": "code",
   "execution_count": 23,
   "id": "c0336c3d",
   "metadata": {},
   "outputs": [
    {
     "data": {
      "text/html": [
       "<div>\n",
       "<style scoped>\n",
       "    .dataframe tbody tr th:only-of-type {\n",
       "        vertical-align: middle;\n",
       "    }\n",
       "\n",
       "    .dataframe tbody tr th {\n",
       "        vertical-align: top;\n",
       "    }\n",
       "\n",
       "    .dataframe thead th {\n",
       "        text-align: right;\n",
       "    }\n",
       "</style>\n",
       "<table border=\"1\" class=\"dataframe\">\n",
       "  <thead>\n",
       "    <tr style=\"text-align: right;\">\n",
       "      <th></th>\n",
       "      <th>1.6m</th>\n",
       "      <th>3.2m</th>\n",
       "      <th>4.8m</th>\n",
       "    </tr>\n",
       "  </thead>\n",
       "  <tbody>\n",
       "    <tr>\n",
       "      <th>width</th>\n",
       "      <td>0.556907</td>\n",
       "      <td>0.518725</td>\n",
       "      <td>0.475160</td>\n",
       "    </tr>\n",
       "    <tr>\n",
       "      <th>height</th>\n",
       "      <td>1.216045</td>\n",
       "      <td>1.228851</td>\n",
       "      <td>1.245925</td>\n",
       "    </tr>\n",
       "    <tr>\n",
       "      <th>depth</th>\n",
       "      <td>0.556889</td>\n",
       "      <td>0.518710</td>\n",
       "      <td>0.475147</td>\n",
       "    </tr>\n",
       "    <tr>\n",
       "      <th>distance</th>\n",
       "      <td>1.533632</td>\n",
       "      <td>3.235136</td>\n",
       "      <td>4.976975</td>\n",
       "    </tr>\n",
       "  </tbody>\n",
       "</table>\n",
       "</div>"
      ],
      "text/plain": [
       "              1.6m      3.2m      4.8m\n",
       "width     0.556907  0.518725  0.475160\n",
       "height    1.216045  1.228851  1.245925\n",
       "depth     0.556889  0.518710  0.475147\n",
       "distance  1.533632  3.235136  4.976975"
      ]
     },
     "execution_count": 23,
     "metadata": {},
     "output_type": "execute_result"
    }
   ],
   "source": [
    "data1=[]\n",
    "data2=[]\n",
    "data3=[]\n",
    "data4=[]\n",
    "for i in range(0, numberOfColumns):\n",
    "    if(i%4==0):\n",
    "          data1.append(Mean_measurement[i])\n",
    "    if(i%4==1):\n",
    "          data2.append(Mean_measurement[i])\n",
    "    if(i%4==2):\n",
    "          data3.append(Mean_measurement[i])\n",
    "    if(i%4==3):\n",
    "          data4.append(Mean_measurement[i])\n",
    "    \n",
    "    \n",
    "data=[data1,data2,data3,data4]\n",
    "rows = [\"width\", \"height\", \"depth\",\"distance\"]\n",
    "columns = [\"1.6m\", \"3.2m\", \"4.8m\"]\n",
    "df_latex = pd.DataFrame(data=data, index=rows, columns=columns)\n",
    "df_latex"
   ]
  },
  {
   "cell_type": "code",
   "execution_count": 24,
   "id": "5bc12b3b",
   "metadata": {},
   "outputs": [
    {
     "name": "stdout",
     "output_type": "stream",
     "text": [
      "\\begin{tabular}{lrrr}\n",
      "\\toprule\n",
      "{} &      1.6m &      3.2m &      4.8m \\\\\n",
      "\\midrule\n",
      "width    &  0.556907 &  0.518725 &  0.475160 \\\\\n",
      "height   &  1.216045 &  1.228851 &  1.245925 \\\\\n",
      "depth    &  0.556889 &  0.518710 &  0.475147 \\\\\n",
      "distance &  1.533632 &  3.235136 &  4.976975 \\\\\n",
      "\\bottomrule\n",
      "\\end{tabular}\n",
      "\n"
     ]
    },
    {
     "name": "stderr",
     "output_type": "stream",
     "text": [
      "/tmp/ipykernel_165761/3287978498.py:1: FutureWarning: In future versions `DataFrame.to_latex` is expected to utilise the base implementation of `Styler.to_latex` for formatting and rendering. The arguments signature may therefore change. It is recommended instead to use `DataFrame.style.to_latex` which also contains additional functionality.\n",
      "  print(df_latex.to_latex(index=True))\n"
     ]
    }
   ],
   "source": [
    "print(df_latex.to_latex(index=True))  "
   ]
  },
  {
   "cell_type": "code",
   "execution_count": 25,
   "id": "6cb1d851",
   "metadata": {},
   "outputs": [
    {
     "data": {
      "text/html": [
       "<div>\n",
       "<style scoped>\n",
       "    .dataframe tbody tr th:only-of-type {\n",
       "        vertical-align: middle;\n",
       "    }\n",
       "\n",
       "    .dataframe tbody tr th {\n",
       "        vertical-align: top;\n",
       "    }\n",
       "\n",
       "    .dataframe thead th {\n",
       "        text-align: right;\n",
       "    }\n",
       "</style>\n",
       "<table border=\"1\" class=\"dataframe\">\n",
       "  <thead>\n",
       "    <tr style=\"text-align: right;\">\n",
       "      <th></th>\n",
       "      <th>1.6m</th>\n",
       "      <th>3.2m</th>\n",
       "      <th>4.8m</th>\n",
       "    </tr>\n",
       "  </thead>\n",
       "  <tbody>\n",
       "    <tr>\n",
       "      <th>width</th>\n",
       "      <td>0.003237</td>\n",
       "      <td>0.004965</td>\n",
       "      <td>0.003790</td>\n",
       "    </tr>\n",
       "    <tr>\n",
       "      <th>height</th>\n",
       "      <td>0.000668</td>\n",
       "      <td>0.000909</td>\n",
       "      <td>0.000451</td>\n",
       "    </tr>\n",
       "    <tr>\n",
       "      <th>depth</th>\n",
       "      <td>0.003238</td>\n",
       "      <td>0.004965</td>\n",
       "      <td>0.003790</td>\n",
       "    </tr>\n",
       "    <tr>\n",
       "      <th>distance</th>\n",
       "      <td>0.001760</td>\n",
       "      <td>0.002429</td>\n",
       "      <td>0.005973</td>\n",
       "    </tr>\n",
       "  </tbody>\n",
       "</table>\n",
       "</div>"
      ],
      "text/plain": [
       "              1.6m      3.2m      4.8m\n",
       "width     0.003237  0.004965  0.003790\n",
       "height    0.000668  0.000909  0.000451\n",
       "depth     0.003238  0.004965  0.003790\n",
       "distance  0.001760  0.002429  0.005973"
      ]
     },
     "execution_count": 25,
     "metadata": {},
     "output_type": "execute_result"
    }
   ],
   "source": [
    "data1=[]\n",
    "data2=[]\n",
    "data3=[]\n",
    "data4=[]\n",
    "for i in range(0, numberOfColumns):\n",
    "    if(i%4==0):\n",
    "          data1.append(Max_measurement_deviation[i])\n",
    "    if(i%4==1):\n",
    "          data2.append(Max_measurement_deviation[i])\n",
    "    if(i%4==2):\n",
    "          data3.append(Max_measurement_deviation[i])\n",
    "    if(i%4==3):\n",
    "          data4.append(Max_measurement_deviation[i])\n",
    "    \n",
    "    \n",
    "data=[data1,data2,data3,data4]\n",
    "rows = [\"width\", \"height\", \"depth\",\"distance\"]\n",
    "columns = [\"1.6m\", \"3.2m\", \"4.8m\"]\n",
    "df_latex = pd.DataFrame(data=data, index=rows, columns=columns)\n",
    "df_latex"
   ]
  },
  {
   "cell_type": "code",
   "execution_count": 26,
   "id": "58d428c7",
   "metadata": {},
   "outputs": [
    {
     "name": "stdout",
     "output_type": "stream",
     "text": [
      "\\begin{tabular}{lrrr}\n",
      "\\toprule\n",
      "{} &      1.6m &      3.2m &      4.8m \\\\\n",
      "\\midrule\n",
      "width    &  0.003237 &  0.004965 &  0.003790 \\\\\n",
      "height   &  0.000668 &  0.000909 &  0.000451 \\\\\n",
      "depth    &  0.003238 &  0.004965 &  0.003790 \\\\\n",
      "distance &  0.001760 &  0.002429 &  0.005973 \\\\\n",
      "\\bottomrule\n",
      "\\end{tabular}\n",
      "\n"
     ]
    },
    {
     "name": "stderr",
     "output_type": "stream",
     "text": [
      "/tmp/ipykernel_165761/3287978498.py:1: FutureWarning: In future versions `DataFrame.to_latex` is expected to utilise the base implementation of `Styler.to_latex` for formatting and rendering. The arguments signature may therefore change. It is recommended instead to use `DataFrame.style.to_latex` which also contains additional functionality.\n",
      "  print(df_latex.to_latex(index=True))\n"
     ]
    }
   ],
   "source": [
    "print(df_latex.to_latex(index=True))  "
   ]
  },
  {
   "cell_type": "code",
   "execution_count": null,
   "id": "b6bb9d6d",
   "metadata": {},
   "outputs": [],
   "source": []
  },
  {
   "cell_type": "code",
   "execution_count": 27,
   "id": "899c0a23",
   "metadata": {},
   "outputs": [
    {
     "data": {
      "text/html": [
       "<div>\n",
       "<style scoped>\n",
       "    .dataframe tbody tr th:only-of-type {\n",
       "        vertical-align: middle;\n",
       "    }\n",
       "\n",
       "    .dataframe tbody tr th {\n",
       "        vertical-align: top;\n",
       "    }\n",
       "\n",
       "    .dataframe thead th {\n",
       "        text-align: right;\n",
       "    }\n",
       "</style>\n",
       "<table border=\"1\" class=\"dataframe\">\n",
       "  <thead>\n",
       "    <tr style=\"text-align: right;\">\n",
       "      <th></th>\n",
       "      <th>1.6m</th>\n",
       "      <th>3.2m</th>\n",
       "      <th>4.8m</th>\n",
       "    </tr>\n",
       "  </thead>\n",
       "  <tbody>\n",
       "    <tr>\n",
       "      <th>width</th>\n",
       "      <td>0.131907</td>\n",
       "      <td>0.093725</td>\n",
       "      <td>0.050160</td>\n",
       "    </tr>\n",
       "    <tr>\n",
       "      <th>height</th>\n",
       "      <td>0.106045</td>\n",
       "      <td>0.118851</td>\n",
       "      <td>0.135925</td>\n",
       "    </tr>\n",
       "    <tr>\n",
       "      <th>depth</th>\n",
       "      <td>0.131889</td>\n",
       "      <td>0.093710</td>\n",
       "      <td>0.050147</td>\n",
       "    </tr>\n",
       "    <tr>\n",
       "      <th>distance</th>\n",
       "      <td>-0.066368</td>\n",
       "      <td>0.035136</td>\n",
       "      <td>0.176975</td>\n",
       "    </tr>\n",
       "  </tbody>\n",
       "</table>\n",
       "</div>"
      ],
      "text/plain": [
       "              1.6m      3.2m      4.8m\n",
       "width     0.131907  0.093725  0.050160\n",
       "height    0.106045  0.118851  0.135925\n",
       "depth     0.131889  0.093710  0.050147\n",
       "distance -0.066368  0.035136  0.176975"
      ]
     },
     "execution_count": 27,
     "metadata": {},
     "output_type": "execute_result"
    }
   ],
   "source": [
    "data1=[]\n",
    "data2=[]\n",
    "data3=[]\n",
    "data4=[]\n",
    "for i in range(0, numberOfColumns):\n",
    "    if(i%4==0):\n",
    "          data1.append(Deviation_to_real[i])\n",
    "    if(i%4==1):\n",
    "          data2.append(Deviation_to_real[i])\n",
    "    if(i%4==2):\n",
    "          data3.append(Deviation_to_real[i])\n",
    "    if(i%4==3):\n",
    "          data4.append(Deviation_to_real[i])\n",
    "    \n",
    "    \n",
    "data=[data1,data2,data3,data4]\n",
    "rows = [\"width\", \"height\", \"depth\",\"distance\"]\n",
    "columns = [\"1.6m\", \"3.2m\", \"4.8m\"]\n",
    "df_latex = pd.DataFrame(data=data, index=rows, columns=columns)\n",
    "df_latex"
   ]
  },
  {
   "cell_type": "code",
   "execution_count": 28,
   "id": "343b21d5",
   "metadata": {},
   "outputs": [
    {
     "name": "stdout",
     "output_type": "stream",
     "text": [
      "\\begin{tabular}{lrrr}\n",
      "\\toprule\n",
      "{} &      1.6m &      3.2m &      4.8m \\\\\n",
      "\\midrule\n",
      "width    &  0.131907 &  0.093725 &  0.050160 \\\\\n",
      "height   &  0.106045 &  0.118851 &  0.135925 \\\\\n",
      "depth    &  0.131889 &  0.093710 &  0.050147 \\\\\n",
      "distance & -0.066368 &  0.035136 &  0.176975 \\\\\n",
      "\\bottomrule\n",
      "\\end{tabular}\n",
      "\n"
     ]
    },
    {
     "name": "stderr",
     "output_type": "stream",
     "text": [
      "/tmp/ipykernel_165761/3287978498.py:1: FutureWarning: In future versions `DataFrame.to_latex` is expected to utilise the base implementation of `Styler.to_latex` for formatting and rendering. The arguments signature may therefore change. It is recommended instead to use `DataFrame.style.to_latex` which also contains additional functionality.\n",
      "  print(df_latex.to_latex(index=True))\n"
     ]
    }
   ],
   "source": [
    "print(df_latex.to_latex(index=True))  "
   ]
  },
  {
   "cell_type": "code",
   "execution_count": null,
   "id": "4a40116a",
   "metadata": {},
   "outputs": [],
   "source": []
  },
  {
   "cell_type": "code",
   "execution_count": null,
   "id": "d1ba751f",
   "metadata": {},
   "outputs": [],
   "source": []
  },
  {
   "cell_type": "code",
   "execution_count": null,
   "id": "55224ff9",
   "metadata": {},
   "outputs": [],
   "source": []
  }
 ],
 "metadata": {
  "kernelspec": {
   "display_name": "Python 3 (ipykernel)",
   "language": "python",
   "name": "python3"
  },
  "language_info": {
   "codemirror_mode": {
    "name": "ipython",
    "version": 3
   },
   "file_extension": ".py",
   "mimetype": "text/x-python",
   "name": "python",
   "nbconvert_exporter": "python",
   "pygments_lexer": "ipython3",
   "version": "3.8.10"
  }
 },
 "nbformat": 4,
 "nbformat_minor": 5
}
