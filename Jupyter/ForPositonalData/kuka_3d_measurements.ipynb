{
 "cells": [
  {
   "cell_type": "code",
   "execution_count": 1,
   "id": "2cb93286",
   "metadata": {},
   "outputs": [],
   "source": [
    "import pandas as pd\n",
    "import numpy as np\n",
    "import matplotlib.pyplot as plt\n",
    "from array import *\n",
    "import statistics"
   ]
  },
  {
   "cell_type": "code",
   "execution_count": 2,
   "id": "c862fbae",
   "metadata": {},
   "outputs": [],
   "source": [
    "df = pd.read_csv(\"/home/theubuntu/ZedRos_CustomDetection/YoloV5 ResultsonTest/kuka/posData_Kuka_1_6m.txt\", sep=\",\",header=None)"
   ]
  },
  {
   "cell_type": "code",
   "execution_count": 3,
   "id": "1944a55b",
   "metadata": {},
   "outputs": [
    {
     "data": {
      "text/html": [
       "<div>\n",
       "<style scoped>\n",
       "    .dataframe tbody tr th:only-of-type {\n",
       "        vertical-align: middle;\n",
       "    }\n",
       "\n",
       "    .dataframe tbody tr th {\n",
       "        vertical-align: top;\n",
       "    }\n",
       "\n",
       "    .dataframe thead th {\n",
       "        text-align: right;\n",
       "    }\n",
       "</style>\n",
       "<table border=\"1\" class=\"dataframe\">\n",
       "  <thead>\n",
       "    <tr style=\"text-align: right;\">\n",
       "      <th></th>\n",
       "      <th>0</th>\n",
       "      <th>1</th>\n",
       "      <th>2</th>\n",
       "      <th>3</th>\n",
       "    </tr>\n",
       "  </thead>\n",
       "  <tbody>\n",
       "    <tr>\n",
       "      <th>0</th>\n",
       "      <td>0.583988</td>\n",
       "      <td>0.701873</td>\n",
       "      <td>0.583971</td>\n",
       "      <td>1.761878</td>\n",
       "    </tr>\n",
       "    <tr>\n",
       "      <th>1</th>\n",
       "      <td>0.584228</td>\n",
       "      <td>0.702136</td>\n",
       "      <td>0.584210</td>\n",
       "      <td>1.763260</td>\n",
       "    </tr>\n",
       "    <tr>\n",
       "      <th>2</th>\n",
       "      <td>0.584455</td>\n",
       "      <td>0.702134</td>\n",
       "      <td>0.584437</td>\n",
       "      <td>1.763758</td>\n",
       "    </tr>\n",
       "    <tr>\n",
       "      <th>3</th>\n",
       "      <td>0.584586</td>\n",
       "      <td>0.702144</td>\n",
       "      <td>0.584569</td>\n",
       "      <td>1.763779</td>\n",
       "    </tr>\n",
       "    <tr>\n",
       "      <th>4</th>\n",
       "      <td>0.584834</td>\n",
       "      <td>0.702185</td>\n",
       "      <td>0.584816</td>\n",
       "      <td>1.765189</td>\n",
       "    </tr>\n",
       "  </tbody>\n",
       "</table>\n",
       "</div>"
      ],
      "text/plain": [
       "          0         1         2         3\n",
       "0  0.583988  0.701873  0.583971  1.761878\n",
       "1  0.584228  0.702136  0.584210  1.763260\n",
       "2  0.584455  0.702134  0.584437  1.763758\n",
       "3  0.584586  0.702144  0.584569  1.763779\n",
       "4  0.584834  0.702185  0.584816  1.765189"
      ]
     },
     "execution_count": 3,
     "metadata": {},
     "output_type": "execute_result"
    }
   ],
   "source": [
    "df = df.iloc[: , :-1]\n",
    "df.head()\n"
   ]
  },
  {
   "cell_type": "code",
   "execution_count": 6,
   "id": "d453f266",
   "metadata": {},
   "outputs": [],
   "source": [
    "#All measurements in meter\n",
    "measurements_real_life=[0.375,0.60, 0.57] #width, hight, depth of kuka robot\n",
    "distances_real_life =[1.6,3.2,4.8]\n"
   ]
  },
  {
   "cell_type": "code",
   "execution_count": 7,
   "id": "0d5c41bc",
   "metadata": {},
   "outputs": [],
   "source": [
    "numberOfColumns=df.shape[1]\n",
    "numberOfRows =df.shape[0]"
   ]
  },
  {
   "cell_type": "code",
   "execution_count": 8,
   "id": "5d8aae0a",
   "metadata": {},
   "outputs": [],
   "source": [
    "Max_measurement=[0 for i in range(numberOfColumns)] \n",
    "Min_measurement=[0 for i in range(numberOfColumns)] \n",
    "Mean_measurement=[0 for i in range(numberOfColumns)] \n",
    "Max_measurement_deviation=[0 for i in range(numberOfColumns)] \n",
    "Deviation_to_real=[0 for i in range(numberOfColumns)] "
   ]
  },
  {
   "cell_type": "code",
   "execution_count": null,
   "id": "3377764f",
   "metadata": {},
   "outputs": [],
   "source": []
  },
  {
   "cell_type": "code",
   "execution_count": 9,
   "id": "89cb8c80",
   "metadata": {},
   "outputs": [],
   "source": [
    "for i in range(0, numberOfColumns):\n",
    "    Max_measurement[i] = df[df.columns[i]].max()\n",
    "    Mean_measurement[i]= df[df.columns[i]].mean()\n",
    "    Min_measurement[i]= df[df.columns[i]].min()"
   ]
  },
  {
   "cell_type": "code",
   "execution_count": 10,
   "id": "c5243564",
   "metadata": {},
   "outputs": [
    {
     "name": "stdout",
     "output_type": "stream",
     "text": [
      "0.5875237600000001\n",
      "0.7030686500000002\n",
      "0.5875060599999999\n",
      "1.77251324\n"
     ]
    }
   ],
   "source": [
    "for i in range(0, numberOfColumns):\n",
    "    print(Mean_measurement[i])"
   ]
  },
  {
   "cell_type": "code",
   "execution_count": 9,
   "id": "cf9eec35",
   "metadata": {},
   "outputs": [
    {
     "name": "stdout",
     "output_type": "stream",
     "text": [
      "0.0037522399999999623\n",
      "0.0011956500000002146\n",
      "0.003752940000000038\n",
      "0.010635240000000046\n"
     ]
    }
   ],
   "source": [
    "for i in range(0, numberOfColumns):\n",
    "    Max_measurement_deviation[i]=Max_measurement[i]-Mean_measurement[i]\n",
    "    temp=Mean_measurement[i]- Min_measurement[i]\n",
    "    if(temp>Max_measurement_deviation[i]):\n",
    "        Max_measurement_deviation[i]=temp\n",
    "    print(Max_measurement_deviation[i])\n",
    "        "
   ]
  },
  {
   "cell_type": "code",
   "execution_count": 10,
   "id": "c9f85e10",
   "metadata": {},
   "outputs": [],
   "source": [
    "#Now calculate the deviation from the real life measurements with the mean \n",
    "for i in range(0, numberOfColumns):\n",
    " \n",
    "    if i==numberOfColumns-1:   #distance \n",
    "        Deviation_to_real[i]=abs(Mean_measurement[i]-distances_real_life[0])\n",
    "    else:\n",
    "       Deviation_to_real[i]=abs(Mean_measurement[i]-measurements_real_life[i])\n",
    "        \n"
   ]
  },
  {
   "cell_type": "code",
   "execution_count": 11,
   "id": "d182318b",
   "metadata": {},
   "outputs": [
    {
     "name": "stdout",
     "output_type": "stream",
     "text": [
      "0.21252376000000006\n",
      "0.1030686500000002\n",
      "0.01750605999999999\n",
      "0.17251324\n"
     ]
    }
   ],
   "source": [
    "for i in range(0, numberOfColumns):\n",
    "    print(Deviation_to_real[i])"
   ]
  },
  {
   "cell_type": "code",
   "execution_count": 12,
   "id": "899c0a23",
   "metadata": {},
   "outputs": [
    {
     "data": {
      "text/html": [
       "<div>\n",
       "<style scoped>\n",
       "    .dataframe tbody tr th:only-of-type {\n",
       "        vertical-align: middle;\n",
       "    }\n",
       "\n",
       "    .dataframe tbody tr th {\n",
       "        vertical-align: top;\n",
       "    }\n",
       "\n",
       "    .dataframe thead th {\n",
       "        text-align: right;\n",
       "    }\n",
       "</style>\n",
       "<table border=\"1\" class=\"dataframe\">\n",
       "  <thead>\n",
       "    <tr style=\"text-align: right;\">\n",
       "      <th></th>\n",
       "      <th>1.6m</th>\n",
       "    </tr>\n",
       "  </thead>\n",
       "  <tbody>\n",
       "    <tr>\n",
       "      <th>width</th>\n",
       "      <td>0.212524</td>\n",
       "    </tr>\n",
       "    <tr>\n",
       "      <th>height</th>\n",
       "      <td>0.103069</td>\n",
       "    </tr>\n",
       "    <tr>\n",
       "      <th>depth</th>\n",
       "      <td>0.017506</td>\n",
       "    </tr>\n",
       "    <tr>\n",
       "      <th>distance</th>\n",
       "      <td>0.172513</td>\n",
       "    </tr>\n",
       "  </tbody>\n",
       "</table>\n",
       "</div>"
      ],
      "text/plain": [
       "              1.6m\n",
       "width     0.212524\n",
       "height    0.103069\n",
       "depth     0.017506\n",
       "distance  0.172513"
      ]
     },
     "execution_count": 12,
     "metadata": {},
     "output_type": "execute_result"
    }
   ],
   "source": [
    "data1=[]\n",
    "\n",
    "for i in range(0, numberOfColumns):\n",
    "          data1.append(Deviation_to_real[i])\n",
    "    \n",
    "rows = [\"width\", \"height\", \"depth\",\"distance\"]\n",
    "columns = [\"1.6m\"]\n",
    "df_latex = pd.DataFrame(data=data1, index=rows, columns=columns)\n",
    "df_latex"
   ]
  },
  {
   "cell_type": "code",
   "execution_count": null,
   "id": "0b6557ad",
   "metadata": {},
   "outputs": [],
   "source": [
    "#For Latex"
   ]
  },
  {
   "cell_type": "code",
   "execution_count": 13,
   "id": "7864420f",
   "metadata": {},
   "outputs": [
    {
     "data": {
      "text/html": [
       "<div>\n",
       "<style scoped>\n",
       "    .dataframe tbody tr th:only-of-type {\n",
       "        vertical-align: middle;\n",
       "    }\n",
       "\n",
       "    .dataframe tbody tr th {\n",
       "        vertical-align: top;\n",
       "    }\n",
       "\n",
       "    .dataframe thead th {\n",
       "        text-align: right;\n",
       "    }\n",
       "</style>\n",
       "<table border=\"1\" class=\"dataframe\">\n",
       "  <thead>\n",
       "    <tr style=\"text-align: right;\">\n",
       "      <th></th>\n",
       "      <th>1.6m</th>\n",
       "    </tr>\n",
       "  </thead>\n",
       "  <tbody>\n",
       "    <tr>\n",
       "      <th>width</th>\n",
       "      <td>0.587524</td>\n",
       "    </tr>\n",
       "    <tr>\n",
       "      <th>height</th>\n",
       "      <td>0.703069</td>\n",
       "    </tr>\n",
       "    <tr>\n",
       "      <th>depth</th>\n",
       "      <td>0.587506</td>\n",
       "    </tr>\n",
       "    <tr>\n",
       "      <th>distance</th>\n",
       "      <td>1.772513</td>\n",
       "    </tr>\n",
       "  </tbody>\n",
       "</table>\n",
       "</div>"
      ],
      "text/plain": [
       "              1.6m\n",
       "width     0.587524\n",
       "height    0.703069\n",
       "depth     0.587506\n",
       "distance  1.772513"
      ]
     },
     "execution_count": 13,
     "metadata": {},
     "output_type": "execute_result"
    }
   ],
   "source": [
    "data1=[]\n",
    "data2=[]\n",
    "data3=[]\n",
    "data4=[]\n",
    "for i in range(0, numberOfColumns):\n",
    "    if(i%4==0):\n",
    "          data1.append(Mean_measurement[i])\n",
    "    if(i%4==1):\n",
    "          data2.append(Mean_measurement[i])\n",
    "    if(i%4==2):\n",
    "          data3.append(Mean_measurement[i])\n",
    "    if(i%4==3):\n",
    "          data4.append(Mean_measurement[i])\n",
    "    \n",
    "    \n",
    "data=[data1,data2,data3,data4]\n",
    "rows = [\"width\", \"height\", \"depth\",\"distance\"]\n",
    "columns = [\"1.6m\"]\n",
    "df_latex = pd.DataFrame(data=data, index=rows, columns=columns)\n",
    "df_latex"
   ]
  },
  {
   "cell_type": "code",
   "execution_count": 14,
   "id": "75883da8",
   "metadata": {},
   "outputs": [
    {
     "name": "stdout",
     "output_type": "stream",
     "text": [
      "\\begin{tabular}{lr}\n",
      "\\toprule\n",
      "{} &      1.6m \\\\\n",
      "\\midrule\n",
      "width    &  0.587524 \\\\\n",
      "height   &  0.703069 \\\\\n",
      "depth    &  0.587506 \\\\\n",
      "distance &  1.772513 \\\\\n",
      "\\bottomrule\n",
      "\\end{tabular}\n",
      "\n"
     ]
    },
    {
     "name": "stderr",
     "output_type": "stream",
     "text": [
      "/tmp/ipykernel_715106/3669379685.py:1: FutureWarning: In future versions `DataFrame.to_latex` is expected to utilise the base implementation of `Styler.to_latex` for formatting and rendering. The arguments signature may therefore change. It is recommended instead to use `DataFrame.style.to_latex` which also contains additional functionality.\n",
      "  print(df_latex.to_latex(index=True))\n"
     ]
    }
   ],
   "source": [
    "\n",
    "print(df_latex.to_latex(index=True))  "
   ]
  },
  {
   "cell_type": "code",
   "execution_count": 15,
   "id": "360d3552",
   "metadata": {},
   "outputs": [
    {
     "data": {
      "text/html": [
       "<div>\n",
       "<style scoped>\n",
       "    .dataframe tbody tr th:only-of-type {\n",
       "        vertical-align: middle;\n",
       "    }\n",
       "\n",
       "    .dataframe tbody tr th {\n",
       "        vertical-align: top;\n",
       "    }\n",
       "\n",
       "    .dataframe thead th {\n",
       "        text-align: right;\n",
       "    }\n",
       "</style>\n",
       "<table border=\"1\" class=\"dataframe\">\n",
       "  <thead>\n",
       "    <tr style=\"text-align: right;\">\n",
       "      <th></th>\n",
       "      <th>1.6m</th>\n",
       "    </tr>\n",
       "  </thead>\n",
       "  <tbody>\n",
       "    <tr>\n",
       "      <th>width</th>\n",
       "      <td>0.003752</td>\n",
       "    </tr>\n",
       "    <tr>\n",
       "      <th>height</th>\n",
       "      <td>0.001196</td>\n",
       "    </tr>\n",
       "    <tr>\n",
       "      <th>depth</th>\n",
       "      <td>0.003753</td>\n",
       "    </tr>\n",
       "    <tr>\n",
       "      <th>distance</th>\n",
       "      <td>0.010635</td>\n",
       "    </tr>\n",
       "  </tbody>\n",
       "</table>\n",
       "</div>"
      ],
      "text/plain": [
       "              1.6m\n",
       "width     0.003752\n",
       "height    0.001196\n",
       "depth     0.003753\n",
       "distance  0.010635"
      ]
     },
     "execution_count": 15,
     "metadata": {},
     "output_type": "execute_result"
    }
   ],
   "source": [
    "data1=[]\n",
    "data2=[]\n",
    "data3=[]\n",
    "data4=[]\n",
    "for i in range(0, numberOfColumns):\n",
    "    if(i%4==0):\n",
    "          data1.append(Max_measurement_deviation[i])\n",
    "    if(i%4==1):\n",
    "          data2.append(Max_measurement_deviation[i])\n",
    "    if(i%4==2):\n",
    "          data3.append(Max_measurement_deviation[i])\n",
    "    if(i%4==3):\n",
    "          data4.append(Max_measurement_deviation[i])\n",
    "    \n",
    "    \n",
    "data=[data1,data2,data3,data4]\n",
    "rows = [\"width\", \"height\", \"depth\",\"distance\"]\n",
    "columns = [\"1.6m\"]\n",
    "df_latex = pd.DataFrame(data=data, index=rows, columns=columns)\n",
    "df_latex"
   ]
  },
  {
   "cell_type": "code",
   "execution_count": 16,
   "id": "2c878c42",
   "metadata": {},
   "outputs": [
    {
     "name": "stdout",
     "output_type": "stream",
     "text": [
      "\\begin{tabular}{lr}\n",
      "\\toprule\n",
      "{} &      1.6m \\\\\n",
      "\\midrule\n",
      "width    &  0.003752 \\\\\n",
      "height   &  0.001196 \\\\\n",
      "depth    &  0.003753 \\\\\n",
      "distance &  0.010635 \\\\\n",
      "\\bottomrule\n",
      "\\end{tabular}\n",
      "\n"
     ]
    },
    {
     "name": "stderr",
     "output_type": "stream",
     "text": [
      "/tmp/ipykernel_715106/3669379685.py:1: FutureWarning: In future versions `DataFrame.to_latex` is expected to utilise the base implementation of `Styler.to_latex` for formatting and rendering. The arguments signature may therefore change. It is recommended instead to use `DataFrame.style.to_latex` which also contains additional functionality.\n",
      "  print(df_latex.to_latex(index=True))\n"
     ]
    }
   ],
   "source": [
    "\n",
    "print(df_latex.to_latex(index=True))  "
   ]
  },
  {
   "cell_type": "code",
   "execution_count": 17,
   "id": "3da4a064",
   "metadata": {},
   "outputs": [
    {
     "data": {
      "text/html": [
       "<div>\n",
       "<style scoped>\n",
       "    .dataframe tbody tr th:only-of-type {\n",
       "        vertical-align: middle;\n",
       "    }\n",
       "\n",
       "    .dataframe tbody tr th {\n",
       "        vertical-align: top;\n",
       "    }\n",
       "\n",
       "    .dataframe thead th {\n",
       "        text-align: right;\n",
       "    }\n",
       "</style>\n",
       "<table border=\"1\" class=\"dataframe\">\n",
       "  <thead>\n",
       "    <tr style=\"text-align: right;\">\n",
       "      <th></th>\n",
       "      <th>1.6m</th>\n",
       "    </tr>\n",
       "  </thead>\n",
       "  <tbody>\n",
       "    <tr>\n",
       "      <th>width</th>\n",
       "      <td>0.212524</td>\n",
       "    </tr>\n",
       "    <tr>\n",
       "      <th>height</th>\n",
       "      <td>0.103069</td>\n",
       "    </tr>\n",
       "    <tr>\n",
       "      <th>depth</th>\n",
       "      <td>0.017506</td>\n",
       "    </tr>\n",
       "    <tr>\n",
       "      <th>distance</th>\n",
       "      <td>0.172513</td>\n",
       "    </tr>\n",
       "  </tbody>\n",
       "</table>\n",
       "</div>"
      ],
      "text/plain": [
       "              1.6m\n",
       "width     0.212524\n",
       "height    0.103069\n",
       "depth     0.017506\n",
       "distance  0.172513"
      ]
     },
     "execution_count": 17,
     "metadata": {},
     "output_type": "execute_result"
    }
   ],
   "source": [
    "data1=[]\n",
    "data2=[]\n",
    "data3=[]\n",
    "data4=[]\n",
    "for i in range(0, numberOfColumns):\n",
    "    if(i%4==0):\n",
    "          data1.append(Deviation_to_real[i])\n",
    "    if(i%4==1):\n",
    "          data2.append(Deviation_to_real[i])\n",
    "    if(i%4==2):\n",
    "          data3.append(Deviation_to_real[i])\n",
    "    if(i%4==3):\n",
    "          data4.append(Deviation_to_real[i])\n",
    "    \n",
    "    \n",
    "data=[data1,data2,data3,data4]\n",
    "rows = [\"width\", \"height\", \"depth\",\"distance\"]\n",
    "columns = [\"1.6m\"]\n",
    "df_latex = pd.DataFrame(data=data, index=rows, columns=columns)\n",
    "df_latex"
   ]
  },
  {
   "cell_type": "code",
   "execution_count": 18,
   "id": "624e1365",
   "metadata": {},
   "outputs": [
    {
     "name": "stdout",
     "output_type": "stream",
     "text": [
      "\\begin{tabular}{lr}\n",
      "\\toprule\n",
      "{} &      1.6m \\\\\n",
      "\\midrule\n",
      "width    &  0.212524 \\\\\n",
      "height   &  0.103069 \\\\\n",
      "depth    &  0.017506 \\\\\n",
      "distance &  0.172513 \\\\\n",
      "\\bottomrule\n",
      "\\end{tabular}\n",
      "\n"
     ]
    },
    {
     "name": "stderr",
     "output_type": "stream",
     "text": [
      "/tmp/ipykernel_715106/3669379685.py:1: FutureWarning: In future versions `DataFrame.to_latex` is expected to utilise the base implementation of `Styler.to_latex` for formatting and rendering. The arguments signature may therefore change. It is recommended instead to use `DataFrame.style.to_latex` which also contains additional functionality.\n",
      "  print(df_latex.to_latex(index=True))\n"
     ]
    }
   ],
   "source": [
    "\n",
    "print(df_latex.to_latex(index=True))  "
   ]
  }
 ],
 "metadata": {
  "kernelspec": {
   "display_name": "Python 3 (ipykernel)",
   "language": "python",
   "name": "python3"
  },
  "language_info": {
   "codemirror_mode": {
    "name": "ipython",
    "version": 3
   },
   "file_extension": ".py",
   "mimetype": "text/x-python",
   "name": "python",
   "nbconvert_exporter": "python",
   "pygments_lexer": "ipython3",
   "version": "3.8.10"
  }
 },
 "nbformat": 4,
 "nbformat_minor": 5
}
